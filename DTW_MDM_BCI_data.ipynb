{
 "cells": [
  {
   "cell_type": "markdown",
   "id": "15a6ed76-4730-4811-b9aa-e42f7831574c",
   "metadata": {},
   "source": [
    "# DTW-MDM on BCI data"
   ]
  },
  {
   "cell_type": "markdown",
   "id": "3cf27ad7-16c0-4313-ad0f-0a114259a1a3",
   "metadata": {},
   "source": [
    "In tihis notebook, we show how to reproduce the results of the paper _AVERAGING TRAJECTORIES ON THE MANIFOLD OF COVARIANCE MATRICES_ on real BCI data. We will show how to use the DTW-MDM code that is also provided in this repository and compare the results to the FgMDM [3] on one dataset."
   ]
  },
  {
   "cell_type": "code",
   "execution_count": 1,
   "id": "e7969141-aa2b-48b8-a986-85856a59f787",
   "metadata": {},
   "outputs": [],
   "source": [
    "import numpy as np\n",
    "from pymanopt.manifolds import SymmetricPositiveDefinite\n",
    "\n",
    "from dtw_fgmdm_temporelle import DTW_MDM_Temp, PT_MDM\n",
    "\n",
    "import moabb\n",
    "from moabb.datasets import Zhou2016\n",
    "from moabb.paradigms import FilterBankMotorImagery\n",
    "from pyriemann.classification import FgMDM\n",
    "from pyriemann.estimation import Covariances\n",
    "\n",
    "from sklearn.model_selection import cross_val_score, KFold\n",
    "\n",
    "import matplotlib.pyplot as plt\n",
    "import warnings\n",
    "warnings.filterwarnings('ignore')"
   ]
  },
  {
   "cell_type": "markdown",
   "id": "a61e1636-e102-4501-ac27-df1dacdf4e15",
   "metadata": {},
   "source": [
    "We start by loading the dataset that we want to work with, in thhis example we chose the dataset `Zhou2016` [1] from the MOABB library [2] because of its small size. We apply some simple preprocess such as applying a standard band-pass filter with range $[7; 35]$ Hz."
   ]
  },
  {
   "cell_type": "code",
   "execution_count": 2,
   "id": "0cf09aaf-467f-4e85-8c53-f34df091094d",
   "metadata": {},
   "outputs": [
    {
     "name": "stderr",
     "output_type": "stream",
     "text": [
      "Choosing from all possible events\n"
     ]
    }
   ],
   "source": [
    "dataset = Zhou2016()\n",
    "filters = [[7,35]]\n",
    "paradigm = FilterBankMotorImagery(filters = filters)\n",
    "f_ech = 250 #Hz"
   ]
  },
  {
   "cell_type": "markdown",
   "id": "98e98b00-8bf2-488d-8a43-7c6a746a90ff",
   "metadata": {},
   "source": [
    "We choose the hyperparameters for our DTW-MDM classifier as described in the paper. For this dataset we choose a number of iterations `nb_it = 10`, a threshold for the convergence `eps = 10e-5`, the size of the sub-windows of the EEG to be $1$ sec so `size_window = 1*f_ech` and the number of points on the mean trajectory `size_mean_traj = 6`. "
   ]
  },
  {
   "cell_type": "code",
   "execution_count": 3,
   "id": "46b84932-12ca-45c9-9361-2f638525ead7",
   "metadata": {},
   "outputs": [],
   "source": [
    "nb_it = 10\n",
    "eps = 1e-5\n",
    "size_mean_traj = 6\n",
    "size_window = int(1*f_ech)"
   ]
  },
  {
   "cell_type": "markdown",
   "id": "76b54550-5cbb-4e30-beee-db449b563bcc",
   "metadata": {},
   "source": [
    "For each subject, we will train a classifer on 5 different splits of the data in order to have the mean accuracy over 5 folds. "
   ]
  },
  {
   "cell_type": "code",
   "execution_count": 4,
   "id": "dd450b78-08d1-4621-8878-59174d65a855",
   "metadata": {},
   "outputs": [
    {
     "name": "stdout",
     "output_type": "stream",
     "text": [
      "=========================================\n",
      "Loading the data...\n",
      "Training for subject 1\n",
      "Reading 0 ... 305029  =      0.000 ...  1220.116 secs...\n",
      "Reading 0 ... 430479  =      0.000 ...  1721.916 secs...\n",
      "Reading 0 ... 252599  =      0.000 ...  1010.396 secs...\n",
      "Reading 0 ... 296649  =      0.000 ...  1186.596 secs...\n",
      "Reading 0 ... 233249  =      0.000 ...   932.996 secs...\n",
      "Reading 0 ... 226219  =      0.000 ...   904.876 secs...\n",
      "Starting cross validation\n"
     ]
    },
    {
     "name": "stderr",
     "output_type": "stream",
     "text": [
      "[Parallel(n_jobs=-1)]: Using backend LokyBackend with 8 concurrent workers.\n",
      "  0%|          | 0/10 [00:00<?, ?it/s]\n",
      "\n",
      "  0%|          | 0/10 [00:00<?, ?it/s]\u001b[A\n",
      "  0%|          | 0/10 [00:00<?, ?it/s]\u001b[A\n",
      "  0%|          | 0/10 [00:00<?, ?it/s]\u001b[A\n",
      "  0%|          | 0/10 [00:00<?, ?it/s]\u001b[A\n",
      " 10%|█         | 1/10 [00:22<03:23, 22.62s/it]\u001b[A\n",
      " 10%|█         | 1/10 [00:22<03:26, 22.99s/it]\u001b[A\n",
      " 10%|█         | 1/10 [00:23<03:29, 23.27s/it]\u001b[A\n",
      " 10%|█         | 1/10 [00:26<04:00, 26.68s/it]\u001b[A\n",
      " 10%|█         | 1/10 [00:29<04:26, 29.62s/it]\u001b[A\n",
      " 20%|██        | 2/10 [00:43<02:53, 21.70s/it]\u001b[A\n",
      " 20%|██        | 2/10 [00:45<03:03, 22.93s/it]\u001b[A\n",
      " 20%|██        | 2/10 [00:46<03:04, 23.08s/it]\u001b[A\n",
      " 20%|██        | 2/10 [00:47<03:06, 23.37s/it]\u001b[A\n",
      " 20%|██        | 2/10 [00:53<03:32, 26.54s/it]\u001b[A\n",
      " 30%|███       | 3/10 [01:06<02:28, 21.17s/it]\u001b[A\n",
      " 30%|███       | 3/10 [01:07<02:37, 22.54s/it]\u001b[A\n",
      " 30%|███       | 3/10 [01:07<02:36, 22.42s/it]\u001b[A\n",
      " 30%|███       | 3/10 [01:15<02:49, 24.27s/it]\u001b[A\n",
      " 30%|███       | 3/10 [01:18<02:59, 25.70s/it]\u001b[A\n",
      " 40%|████      | 4/10 [01:28<02:08, 21.38s/it]\u001b[A\n",
      " 40%|████      | 4/10 [01:34<02:14, 22.38s/it]\u001b[A\n",
      " 40%|████      | 4/10 [01:36<02:17, 22.90s/it]\u001b[A\n",
      " 40%|████      | 4/10 [01:37<02:28, 24.73s/it]\u001b[A\n",
      " 40%|████      | 4/10 [01:43<02:31, 25.25s/it]\u001b[A\n",
      " 50%|█████     | 5/10 [01:53<01:47, 21.43s/it]\u001b[A\n",
      " 50%|█████     | 5/10 [01:53<01:51, 22.24s/it]\u001b[A\n",
      " 50%|█████     | 5/10 [01:56<01:53, 22.75s/it]\u001b[A\n",
      " 50%|█████     | 5/10 [01:58<01:55, 23.18s/it]\u001b[A\n",
      " 60%|██████    | 6/10 [01:59<01:07, 16.89s/it]\u001b[A\n",
      " 60%|██████    | 6/10 [02:05<01:23, 20.85s/it]\u001b[A\n",
      "\n",
      " 60%|██████    | 6/10 [02:06<01:21, 20.40s/it]\u001b[A\n",
      " 60%|██████    | 6/10 [02:14<01:25, 21.31s/it]\u001b[A\n",
      " 70%|███████   | 7/10 [02:22<00:48, 16.08s/it]\u001b[A\n",
      " 60%|██████    | 6/10 [02:23<01:33, 23.44s/it]\u001b[A\n",
      " 80%|████████  | 8/10 [02:29<00:26, 13.39s/it]\u001b[A\n",
      " 80%|████████  | 8/10 [02:30<00:31, 15.94s/it]\u001b[A\n",
      "100%|██████████| 10/10 [02:47<00:00, 16.70s/it][A\n",
      "\n",
      " 70%|███████   | 7/10 [02:47<01:11, 23.78s/it]\u001b[A\n",
      " 70%|███████   | 7/10 [02:48<01:11, 23.99s/it]\u001b[A\n",
      " 80%|████████  | 8/10 [02:51<00:39, 19.91s/it]\u001b[A\n",
      " 90%|█████████ | 9/10 [02:58<00:19, 19.88s/it]\u001b[A\n",
      "\n",
      "100%|██████████| 10/10 [03:00<00:00, 18.03s/it]\u001b[A\n",
      "\n",
      " 80%|████████  | 8/10 [03:03<00:43, 22.00s/it]\u001b[A\n",
      " 80%|████████  | 8/10 [03:05<00:43, 21.89s/it]\u001b[A\n",
      "100%|██████████| 10/10 [03:05<00:00, 18.54s/it]\u001b[A\n",
      "[Parallel(n_jobs=-1)]: Done   2 out of   5 | elapsed:  3.1min remaining:  4.7min\n",
      " 80%|████████  | 8/10 [03:07<00:46, 23.09s/it]\n",
      "100%|██████████| 10/10 [03:13<00:00, 19.33s/it][A\n",
      "\n",
      " 90%|█████████ | 9/10 [03:16<00:18, 18.44s/it]\u001b[A\n",
      " 90%|█████████ | 9/10 [03:23<00:21, 21.64s/it]\u001b[A\n",
      "100%|██████████| 10/10 [03:30<00:00, 21.02s/it]\u001b[A\n",
      " 90%|█████████ | 9/10 [03:30<00:22, 22.98s/it]\n",
      "100%|██████████| 10/10 [03:38<00:00, 21.87s/it]\u001b[A\n",
      "100%|██████████| 10/10 [03:39<00:00, 21.90s/it]\n",
      "100%|██████████| 10/10 [03:40<00:00, 22.09s/it]\n",
      "[Parallel(n_jobs=-1)]: Done   5 out of   5 | elapsed:  3.7min finished\n"
     ]
    },
    {
     "name": "stdout",
     "output_type": "stream",
     "text": [
      "The mean score for subject  1 is 0.8870039682539682\n",
      "The var score for subject  1 is 0.0017436057177500626\n",
      "=========================================\n",
      "Loading the data...\n",
      "Training for subject 2\n",
      "Reading 0 ... 227539  =      0.000 ...   910.156 secs...\n",
      "Reading 0 ... 216079  =      0.000 ...   864.316 secs...\n",
      "Reading 0 ... 213939  =      0.000 ...   855.756 secs...\n",
      "Reading 0 ... 175269  =      0.000 ...   701.076 secs...\n",
      "Reading 0 ... 213209  =      0.000 ...   852.836 secs...\n",
      "Reading 0 ... 217659  =      0.000 ...   870.636 secs...\n",
      "Starting cross validation\n"
     ]
    },
    {
     "name": "stderr",
     "output_type": "stream",
     "text": [
      "[Parallel(n_jobs=-1)]: Using backend LokyBackend with 8 concurrent workers.\n",
      "  0%|          | 0/10 [00:00<?, ?it/s]\n",
      "\n",
      "\n",
      "  0%|          | 0/10 [00:00<?, ?it/s]\u001b[A\u001b[A\n",
      "  0%|          | 0/10 [00:00<?, ?it/s]\u001b[A\n",
      " 10%|█         | 1/10 [00:22<03:23, 22.60s/it]\n",
      " 10%|█         | 1/10 [00:25<03:48, 25.39s/it]\u001b[A\n",
      " 10%|█         | 1/10 [00:26<03:59, 26.57s/it]\u001b[A\n",
      " 10%|█         | 1/10 [00:27<04:03, 27.11s/it]\u001b[A\n",
      " 10%|█         | 1/10 [00:27<04:11, 27.91s/it]\u001b[A\n",
      " 20%|██        | 2/10 [00:51<03:27, 25.96s/it]\u001b[A\n",
      " 20%|██        | 2/10 [00:51<03:25, 25.63s/it]\u001b[A\n",
      " 20%|██        | 2/10 [00:54<03:34, 26.86s/it]\u001b[A\n",
      " 20%|██        | 2/10 [00:55<03:42, 27.79s/it]\u001b[A\n",
      " 20%|██        | 2/10 [00:55<03:43, 27.88s/it]\u001b[A\n",
      " 30%|███       | 3/10 [01:17<03:06, 26.65s/it]\u001b[A\n",
      " 30%|███       | 3/10 [01:22<03:17, 28.21s/it]\u001b[A\n",
      " 30%|███       | 3/10 [01:28<03:32, 30.40s/it]\u001b[A\n",
      " 30%|███       | 3/10 [01:30<03:40, 31.52s/it]\u001b[A\n",
      " 30%|███       | 3/10 [01:34<03:51, 33.12s/it]\u001b[A\n",
      " 40%|████      | 4/10 [01:48<02:49, 28.23s/it]\u001b[A\n",
      " 40%|████      | 4/10 [02:01<03:15, 32.56s/it]\u001b[A\n",
      " 40%|████      | 4/10 [02:01<03:08, 31.35s/it]\u001b[A\n",
      " 40%|████      | 4/10 [02:02<03:11, 31.91s/it]\u001b[A\n",
      " 40%|████      | 4/10 [02:12<03:27, 34.66s/it]\u001b[A\n",
      " 50%|█████     | 5/10 [02:13<02:11, 26.39s/it]\u001b[A\n",
      " 50%|█████     | 5/10 [02:20<02:25, 29.11s/it]\u001b[A\n",
      " 50%|█████     | 5/10 [02:31<02:37, 31.48s/it]\u001b[A\n",
      " 60%|██████    | 6/10 [02:34<01:35, 23.80s/it]\u001b[A\n",
      " 50%|█████     | 5/10 [02:33<02:37, 31.48s/it]\u001b[A\n",
      " 50%|█████     | 5/10 [02:40<02:41, 32.30s/it]\u001b[A\n",
      " 70%|███████   | 7/10 [02:49<01:02, 20.85s/it]\u001b[A\n",
      " 70%|███████   | 7/10 [02:52<01:09, 23.11s/it]\u001b[A\n",
      " 70%|███████   | 7/10 [02:55<01:15, 25.00s/it]\u001b[A\n",
      " 70%|███████   | 7/10 [02:55<01:10, 23.60s/it]\n",
      " 60%|██████    | 6/10 [03:00<02:02, 30.67s/it]\u001b[A\n",
      " 60%|██████    | 6/10 [03:00<01:59, 29.91s/it]\u001b[A\n",
      " 60%|██████    | 6/10 [03:08<02:03, 30.89s/it]\u001b[A\n",
      " 80%|████████  | 8/10 [03:09<00:42, 21.03s/it]\u001b[A\n",
      " 80%|████████  | 8/10 [03:12<00:36, 18.02s/it]\u001b[A\n",
      " 70%|███████   | 7/10 [03:15<01:12, 24.04s/it]\u001b[A\n",
      " 70%|███████   | 7/10 [03:16<01:16, 25.49s/it]\u001b[A\n",
      " 90%|█████████ | 9/10 [03:18<00:14, 14.24s/it]\u001b[A\n",
      " 70%|███████   | 7/10 [03:22<01:23, 27.91s/it]\u001b[A\n",
      "100%|██████████| 10/10 [03:24<00:00, 20.43s/it]\u001b[A\n",
      " 90%|█████████ | 9/10 [03:25<00:19, 19.57s/it]\n",
      " 70%|███████   | 7/10 [03:27<01:28, 29.41s/it]\u001b[A\n",
      " 80%|████████  | 8/10 [03:29<00:49, 24.66s/it]\u001b[A\n",
      " 80%|████████  | 8/10 [03:35<00:53, 26.98s/it]\u001b[A\n",
      "\n",
      " 90%|█████████ | 9/10 [03:38<00:17, 17.34s/it]\u001b[A\n",
      " 90%|█████████ | 9/10 [03:42<00:24, 24.72s/it]\u001b[A\n",
      "100%|██████████| 10/10 [03:42<00:00, 22.27s/it]\n",
      "[Parallel(n_jobs=-1)]: Done   2 out of   5 | elapsed:  3.7min remaining:  5.6min\n",
      "\n",
      "100%|██████████| 10/10 [03:50<00:00, 23.00s/it][A\n",
      " 90%|█████████ | 9/10 [03:57<00:21, 21.33s/it]\n",
      " 90%|█████████ | 9/10 [03:58<00:22, 22.60s/it]\u001b[A\n",
      "100%|██████████| 10/10 [04:00<00:00, 24.06s/it]\u001b[A\n",
      "100%|██████████| 10/10 [04:07<00:00, 24.72s/it]\n",
      "\n",
      "100%|██████████| 10/10 [04:08<00:00, 24.89s/it]\u001b[A\n",
      "100%|██████████| 10/10 [04:10<00:00, 25.10s/it]\n",
      "[Parallel(n_jobs=-1)]: Done   5 out of   5 | elapsed:  4.2min finished\n"
     ]
    },
    {
     "name": "stdout",
     "output_type": "stream",
     "text": [
      "The mean score for subject  2 is 0.7655172413793103\n",
      "The var score for subject  2 is 0.0006658739595719368\n",
      "=========================================\n",
      "Loading the data...\n",
      "Training for subject 3\n",
      "Reading 0 ... 219849  =      0.000 ...   879.396 secs...\n",
      "Reading 0 ... 216709  =      0.000 ...   866.836 secs...\n",
      "Reading 0 ... 226609  =      0.000 ...   906.436 secs...\n",
      "Reading 0 ... 266929  =      0.000 ...  1067.716 secs...\n",
      "Reading 0 ... 227989  =      0.000 ...   911.956 secs...\n",
      "Reading 0 ... 222459  =      0.000 ...   889.836 secs...\n",
      "Starting cross validation\n"
     ]
    },
    {
     "name": "stderr",
     "output_type": "stream",
     "text": [
      "[Parallel(n_jobs=-1)]: Using backend LokyBackend with 8 concurrent workers.\n",
      "  0%|          | 0/10 [00:00<?, ?it/s]\n",
      "  0%|          | 0/10 [00:00<?, ?it/s]\u001b[A\n",
      "  0%|          | 0/10 [00:00<?, ?it/s]\u001b[A\n",
      "  0%|          | 0/10 [00:00<?, ?it/s]\u001b[A\n",
      "  0%|          | 0/10 [00:00<?, ?it/s]\u001b[A\n",
      " 10%|█         | 1/10 [00:30<04:37, 30.78s/it]\n",
      " 10%|█         | 1/10 [00:32<04:48, 32.05s/it]\u001b[A\n",
      " 10%|█         | 1/10 [00:31<04:47, 31.97s/it]\u001b[A\n",
      " 10%|█         | 1/10 [00:34<05:06, 34.09s/it]\u001b[A\n",
      " 10%|█         | 1/10 [00:34<05:11, 34.57s/it]\u001b[A\n",
      " 10%|█         | 1/10 [00:36<05:32, 36.91s/it]\u001b[A\n",
      " 20%|██        | 2/10 [00:54<03:31, 26.43s/it]\u001b[A\n",
      " 20%|██        | 2/10 [01:01<04:00, 30.01s/it]\u001b[A\n",
      " 20%|██        | 2/10 [01:01<04:01, 30.23s/it]\u001b[A\n",
      " 20%|██        | 2/10 [01:02<04:07, 30.93s/it]\u001b[A\n",
      " 20%|██        | 2/10 [01:06<04:29, 33.64s/it]\u001b[A\n",
      " 30%|███       | 3/10 [01:25<03:15, 27.89s/it]\u001b[A\n",
      " 30%|███       | 3/10 [01:33<03:36, 30.88s/it]\u001b[A\n",
      " 30%|███       | 3/10 [01:36<03:46, 32.31s/it]\u001b[A\n",
      " 30%|███       | 3/10 [01:36<03:45, 32.15s/it]\u001b[A\n",
      " 30%|███       | 3/10 [01:39<03:53, 33.34s/it]\u001b[A\n",
      " 40%|████      | 4/10 [01:52<02:45, 27.65s/it]\u001b[A\n",
      " 40%|████      | 4/10 [01:56<02:52, 28.76s/it]\u001b[A\n",
      " 40%|████      | 4/10 [02:09<03:11, 31.95s/it]\u001b[A\n",
      " 40%|████      | 4/10 [02:10<03:18, 33.02s/it]\u001b[A\n",
      " 40%|████      | 4/10 [02:11<03:15, 32.63s/it]\u001b[A\n",
      " 50%|█████     | 5/10 [02:17<02:17, 27.54s/it]\u001b[A\n",
      " 50%|█████     | 5/10 [02:23<02:23, 28.65s/it]\u001b[A\n",
      " 50%|█████     | 5/10 [02:37<02:32, 30.54s/it]\u001b[A\n",
      " 50%|█████     | 5/10 [02:40<02:43, 32.65s/it]\u001b[A\n",
      " 60%|██████    | 6/10 [02:41<01:40, 25.25s/it]\u001b[A\n",
      " 50%|█████     | 5/10 [02:44<02:44, 32.85s/it]\u001b[A\n",
      " 60%|██████    | 6/10 [02:59<01:59, 29.97s/it]\u001b[A\n",
      "\n",
      " 70%|███████   | 7/10 [03:00<01:09, 23.24s/it]\u001b[A\n",
      " 60%|██████    | 6/10 [03:10<02:07, 31.76s/it]\u001b[A\n",
      " 70%|███████   | 7/10 [03:11<01:17, 25.92s/it]\u001b[A\n",
      " 70%|███████   | 7/10 [03:13<01:11, 23.87s/it]\u001b[A\n",
      " 70%|███████   | 7/10 [03:16<01:26, 28.79s/it]\u001b[A\n",
      " 70%|███████   | 7/10 [03:20<01:25, 28.47s/it]\u001b[A\n",
      " 80%|████████  | 8/10 [03:26<00:44, 22.26s/it]\u001b[A\n",
      " 70%|███████   | 7/10 [03:30<01:30, 30.06s/it]\u001b[A\n",
      "\n",
      " 90%|█████████ | 9/10 [03:31<00:15, 15.84s/it]\u001b[A\n",
      " 70%|███████   | 7/10 [03:37<01:30, 30.29s/it]\u001b[A\n",
      " 90%|█████████ | 9/10 [03:38<00:18, 18.96s/it]\u001b[A\n",
      "100%|██████████| 10/10 [03:39<00:00, 21.99s/it]\u001b[A\n",
      "\n",
      " 90%|█████████ | 9/10 [03:41<00:24, 24.65s/it]\u001b[A\n",
      "[Parallel(n_jobs=-1)]: Done   2 out of   5 | elapsed:  3.7min remaining:  5.6min\n",
      " 90%|█████████ | 9/10 [03:46<00:21, 21.56s/it]\n",
      " 90%|█████████ | 9/10 [03:48<00:23, 23.25s/it]\u001b[A\n",
      " 70%|███████   | 7/10 [03:49<01:37, 32.40s/it]\u001b[A\n",
      "100%|██████████| 10/10 [03:56<00:00, 23.62s/it]\u001b[A\n",
      "100%|██████████| 10/10 [03:57<00:00, 23.76s/it]\n",
      "\n",
      " 90%|█████████ | 9/10 [04:00<00:23, 23.59s/it]\u001b[A\n",
      " 90%|█████████ | 9/10 [04:04<00:27, 27.12s/it]\u001b[A\n",
      " 90%|█████████ | 9/10 [04:08<00:21, 21.86s/it]\n",
      " 90%|█████████ | 9/10 [04:11<00:22, 22.38s/it]\u001b[A\n",
      " 90%|█████████ | 9/10 [04:13<00:28, 28.22s/it]\u001b[A\n",
      "100%|██████████| 10/10 [04:16<00:00, 25.69s/it]\n",
      "\n",
      "100%|██████████| 10/10 [04:19<00:00, 25.98s/it]\u001b[A\n",
      "[Parallel(n_jobs=-1)]: Done   5 out of   5 | elapsed:  4.3min finished\n"
     ]
    },
    {
     "name": "stdout",
     "output_type": "stream",
     "text": [
      "The mean score for subject  3 is 0.9466666666666667\n",
      "The var score for subject  3 is 0.0010444444444444438\n",
      "=========================================\n",
      "Loading the data...\n",
      "Training for subject 4\n",
      "Reading 0 ... 181339  =      0.000 ...   725.356 secs...\n",
      "Reading 0 ... 217139  =      0.000 ...   868.556 secs...\n",
      "Reading 0 ... 215399  =      0.000 ...   861.596 secs...\n",
      "Reading 0 ... 212209  =      0.000 ...   848.836 secs...\n",
      "Reading 0 ... 209799  =      0.000 ...   839.196 secs...\n",
      "Reading 0 ... 217109  =      0.000 ...   868.436 secs...\n",
      "Starting cross validation\n"
     ]
    },
    {
     "name": "stderr",
     "output_type": "stream",
     "text": [
      "[Parallel(n_jobs=-1)]: Using backend LokyBackend with 8 concurrent workers.\n",
      "  0%|          | 0/10 [00:00<?, ?it/s]\n",
      "  0%|          | 0/10 [00:00<?, ?it/s]\u001b[A\n",
      "  0%|          | 0/10 [00:00<?, ?it/s]\u001b[A\n",
      "  0%|          | 0/10 [00:00<?, ?it/s]\n",
      "  0%|          | 0/10 [00:00<?, ?it/s]\u001b[A\n",
      "  0%|          | 0/10 [00:00<?, ?it/s]\u001b[A\n",
      " 10%|█         | 1/10 [00:31<04:41, 31.28s/it]\u001b[A\n",
      " 10%|█         | 1/10 [00:32<04:50, 32.23s/it]\u001b[A\n",
      " 10%|█         | 1/10 [00:31<04:44, 31.64s/it]\u001b[A\n",
      " 10%|█         | 1/10 [00:34<05:06, 34.07s/it]\u001b[A\n",
      " 10%|█         | 1/10 [00:38<05:43, 38.14s/it]\u001b[A\n",
      " 20%|██        | 2/10 [00:59<03:54, 29.28s/it]\u001b[A\n",
      " 20%|██        | 2/10 [01:00<04:01, 30.25s/it]\u001b[A\n",
      " 20%|██        | 2/10 [01:01<04:02, 30.25s/it]\u001b[A\n",
      " 20%|██        | 2/10 [01:05<04:19, 32.46s/it]\u001b[A\n",
      " 20%|██        | 2/10 [01:08<04:33, 34.20s/it]\u001b[A\n",
      " 30%|███       | 3/10 [01:24<03:14, 27.79s/it]\u001b[A\n",
      " 30%|███       | 3/10 [01:29<03:26, 29.56s/it]\u001b[A\n",
      " 30%|███       | 3/10 [01:29<03:27, 29.69s/it]\u001b[A\n",
      " 30%|███       | 3/10 [01:33<03:29, 29.93s/it]\u001b[A\n",
      " 30%|███       | 3/10 [01:35<03:34, 30.63s/it]\u001b[A\n",
      " 40%|████      | 4/10 [01:53<02:46, 27.81s/it]\u001b[A\n",
      " 40%|████      | 4/10 [01:55<02:48, 28.12s/it]\u001b[A\n",
      " 40%|████      | 4/10 [01:58<02:51, 28.63s/it]\u001b[A\n",
      " 40%|████      | 4/10 [02:03<03:09, 31.59s/it]\u001b[A\n",
      " 40%|████      | 4/10 [02:07<03:08, 31.36s/it]\u001b[A\n",
      " 50%|█████     | 5/10 [02:13<02:03, 24.64s/it]\u001b[A\n",
      " 50%|█████     | 5/10 [02:23<02:19, 27.92s/it]\u001b[A\n",
      " 50%|█████     | 5/10 [02:23<02:18, 27.79s/it]\u001b[A\n",
      " 50%|█████     | 5/10 [02:26<02:24, 28.91s/it]\u001b[A\n",
      " 50%|█████     | 5/10 [02:32<02:27, 29.55s/it]\u001b[A\n",
      " 60%|██████    | 6/10 [02:44<01:42, 25.67s/it]\u001b[A\n",
      " 60%|██████    | 6/10 [02:44<01:41, 25.27s/it]\u001b[A\n",
      " 60%|██████    | 6/10 [02:54<01:51, 27.78s/it]\u001b[A\n",
      " 60%|██████    | 6/10 [02:55<01:50, 27.65s/it]\u001b[A\n",
      " 60%|██████    | 6/10 [03:04<02:01, 30.49s/it]\u001b[A\n",
      " 70%|███████   | 7/10 [03:05<01:17, 26.00s/it]\u001b[A\n",
      " 70%|███████   | 7/10 [03:10<01:20, 26.72s/it]\u001b[A\n",
      " 70%|███████   | 7/10 [03:29<01:30, 30.26s/it]\u001b[A\n",
      " 70%|███████   | 7/10 [03:32<01:31, 30.44s/it]\u001b[A\n",
      " 70%|███████   | 7/10 [03:36<01:33, 31.06s/it]\u001b[A\n",
      " 80%|████████  | 8/10 [03:39<00:54, 27.07s/it]\u001b[A\n",
      " 70%|███████   | 7/10 [03:42<01:42, 34.11s/it]\u001b[A\n",
      " 90%|█████████ | 9/10 [03:51<00:22, 22.29s/it]\u001b[A\n",
      " 90%|█████████ | 9/10 [03:56<00:26, 26.30s/it]\u001b[A\n",
      "\n",
      " 90%|█████████ | 9/10 [03:57<00:25, 25.56s/it]\u001b[A\n",
      " 80%|████████  | 8/10 [04:03<01:00, 30.48s/it]\u001b[A\n",
      "100%|██████████| 10/10 [04:04<00:00, 24.45s/it]\n",
      " 90%|█████████ | 9/10 [04:04<00:26, 26.44s/it]\n",
      " 90%|█████████ | 9/10 [04:09<00:27, 27.77s/it]\u001b[A\n",
      "[Parallel(n_jobs=-1)]: Done   2 out of   5 | elapsed:  4.2min remaining:  6.3min\n",
      "\n",
      "100%|██████████| 10/10 [04:13<00:00, 25.34s/it]\u001b[A\n",
      "\n",
      "100%|██████████| 10/10 [04:18<00:00, 25.86s/it][A\n",
      "\n",
      "100%|██████████| 10/10 [04:25<00:00, 26.53s/it][A\n",
      "\n",
      "100%|██████████| 10/10 [04:28<00:00, 26.86s/it]\u001b[A\n",
      " 90%|█████████ | 9/10 [04:29<00:28, 28.20s/it]\n",
      "100%|██████████| 10/10 [04:30<00:00, 27.09s/it]\u001b[A\n",
      "100%|██████████| 10/10 [04:36<00:00, 27.60s/it]\n",
      "[Parallel(n_jobs=-1)]: Done   5 out of   5 | elapsed:  4.6min finished\n"
     ]
    },
    {
     "name": "stdout",
     "output_type": "stream",
     "text": [
      "The mean score for subject  4 is 0.9379310344827587\n",
      "The var score for subject  4 is 0.0004280618311533887\n"
     ]
    }
   ],
   "source": [
    "accuracy_list_DTW_MDM = np.array([])\n",
    "for i in dataset.subject_list:\n",
    "    print(\"=========================================\")\n",
    "    print(\"Loading the data...\")\n",
    "    print(\"Training for subject \" + str(i))\n",
    "    X, labels, meta = paradigm.get_data(dataset=dataset, subjects=[i])\n",
    "    (nb_traj, nb_sensors, length_EEG) = X.shape\n",
    "    # Data loaded\n",
    "    \n",
    "    manifold = SymmetricPositiveDefinite(n=nb_sensors)\n",
    "    \n",
    "    # Creating the 5 splits \n",
    "    cv = KFold(n_splits=5, shuffle=True, random_state = 42)\n",
    "    DTW_MDM_ = DTW_MDM_Temp(manifold, nb_it, eps, size_mean_traj, size_window,cov_estimator='lwf')\n",
    "    print(\"Starting cross validation\")\n",
    "    \n",
    "    # Computing the scores on the 5 splits\n",
    "    scores = cross_val_score(DTW_MDM_, X, labels, cv=cv, n_jobs=-1, verbose=1)\n",
    "\n",
    "    print(\"The mean score for subject  \" + str(i) + \" is \" + str(np.mean(scores)))\n",
    "    print(\"The var score for subject  \" + str(i) + \" is \" + str(np.var(scores)))\n",
    "    #print(\"It took \" + str(time_train) + \" sec to train\")\n",
    "    accuracy_list_DTW_MDM = np.concatenate((accuracy_list_DTW_MDM,scores))"
   ]
  },
  {
   "cell_type": "code",
   "execution_count": 5,
   "id": "232ddbde-16d3-4481-8798-b935ae4eae9a",
   "metadata": {},
   "outputs": [
    {
     "data": {
      "image/png": "[encoded data removed]",
      "text/plain": [
       "<Figure size 640x480 with 1 Axes>"
      ]
     },
     "metadata": {},
     "output_type": "display_data"
    }
   ],
   "source": [
    "plt.figure()\n",
    "plt.boxplot(accuracy_list_DTW_MDM.reshape((4,5)).T)\n",
    "plt.xlabel(\"Subject number\")\n",
    "plt.ylabel(\"Accuracy\")\n",
    "plt.title(\"Box plot for the results of DTW-MDM on the Zhou2016 dataset \\n Mean accuracy intrasubject : \" + str(np.mean(accuracy_list_DTW_MDM)))\n",
    "plt.show()"
   ]
  },
  {
   "cell_type": "markdown",
   "id": "e82487e0-ec13-4bf2-a37d-fcea239f66bc",
   "metadata": {},
   "source": [
    "We can now do the same thing with the other method that we present in the paper : _PT-MDM_."
   ]
  },
  {
   "cell_type": "code",
   "execution_count": 6,
   "id": "2fcd59bc-1fa6-4ffd-a285-eccb654de29b",
   "metadata": {},
   "outputs": [
    {
     "name": "stdout",
     "output_type": "stream",
     "text": [
      "=========================================\n",
      "Loading the data...\n",
      "Training for subject 1\n",
      "Reading 0 ... 305029  =      0.000 ...  1220.116 secs...\n",
      "Reading 0 ... 430479  =      0.000 ...  1721.916 secs...\n",
      "Reading 0 ... 252599  =      0.000 ...  1010.396 secs...\n",
      "Reading 0 ... 296649  =      0.000 ...  1186.596 secs...\n",
      "Reading 0 ... 233249  =      0.000 ...   932.996 secs...\n",
      "Reading 0 ... 226219  =      0.000 ...   904.876 secs...\n",
      "Starting cross validation\n"
     ]
    },
    {
     "name": "stderr",
     "output_type": "stream",
     "text": [
      "[Parallel(n_jobs=-1)]: Using backend LokyBackend with 8 concurrent workers.\n",
      "[Parallel(n_jobs=-1)]: Done   2 out of   5 | elapsed:    0.1s remaining:    0.2s\n",
      "[Parallel(n_jobs=-1)]: Done   5 out of   5 | elapsed:    0.9s finished\n"
     ]
    },
    {
     "ename": "ValueError",
     "evalue": "\nAll the 5 fits failed.\nIt is very likely that your model is misconfigured.\nYou can try to debug the error by setting error_score='raise'.\n\nBelow are more details about the failures:\n--------------------------------------------------------------------------------\n5 fits failed with the following error:\nTraceback (most recent call last):\n  File \"/Users/thibaultdesurrel/.pyenv/versions/stage/lib/python3.11/site-packages/sklearn/model_selection/_validation.py\", line 686, in _fit_and_score\n    estimator.fit(X_train, y_train, **fit_params)\n  File \"/Users/thibaultdesurrel/Documents/ENSTA/Stage/Trajectory_MDM/dtw_fgmdm_temporelle.py\", line 659, in fit\n    cov_traj = self.preprocess_data(X, y)\n               ^^^^^^^^^^^^^^^^^^^^^^^^^^\n  File \"/Users/thibaultdesurrel/Documents/ENSTA/Stage/Trajectory_MDM/dtw_fgmdm_temporelle.py\", line 557, in preprocess_data\n    traj_temp.append(self.get_temporal_trajectories(X[i], self.size_window, self.overlap))\n                                                                            ^^^^^^^^^^^^\nAttributeError: 'PT_MDM' object has no attribute 'overlap'\n",
     "output_type": "error",
     "traceback": [
      "\u001b[0;31m---------------------------------------------------------------------------\u001b[0m",
      "\u001b[0;31mValueError\u001b[0m                                Traceback (most recent call last)",
      "Cell \u001b[0;32mIn[6], line 18\u001b[0m\n\u001b[1;32m     15\u001b[0m \u001b[38;5;28mprint\u001b[39m(\u001b[38;5;124m\"\u001b[39m\u001b[38;5;124mStarting cross validation\u001b[39m\u001b[38;5;124m\"\u001b[39m)\n\u001b[1;32m     17\u001b[0m \u001b[38;5;66;03m# Computing the scores on the 5 splits\u001b[39;00m\n\u001b[0;32m---> 18\u001b[0m scores \u001b[38;5;241m=\u001b[39m \u001b[43mcross_val_score\u001b[49m\u001b[43m(\u001b[49m\u001b[43mPT_MDM_\u001b[49m\u001b[43m,\u001b[49m\u001b[43m \u001b[49m\u001b[43mX\u001b[49m\u001b[43m,\u001b[49m\u001b[43m \u001b[49m\u001b[43mlabels\u001b[49m\u001b[43m,\u001b[49m\u001b[43m \u001b[49m\u001b[43mcv\u001b[49m\u001b[38;5;241;43m=\u001b[39;49m\u001b[43mcv\u001b[49m\u001b[43m,\u001b[49m\u001b[43m \u001b[49m\u001b[43mn_jobs\u001b[49m\u001b[38;5;241;43m=\u001b[39;49m\u001b[38;5;241;43m-\u001b[39;49m\u001b[38;5;241;43m1\u001b[39;49m\u001b[43m,\u001b[49m\u001b[43m \u001b[49m\u001b[43mverbose\u001b[49m\u001b[38;5;241;43m=\u001b[39;49m\u001b[38;5;241;43m1\u001b[39;49m\u001b[43m)\u001b[49m\n\u001b[1;32m     20\u001b[0m \u001b[38;5;28mprint\u001b[39m(\u001b[38;5;124m\"\u001b[39m\u001b[38;5;124mThe mean score for subject  \u001b[39m\u001b[38;5;124m\"\u001b[39m \u001b[38;5;241m+\u001b[39m \u001b[38;5;28mstr\u001b[39m(i) \u001b[38;5;241m+\u001b[39m \u001b[38;5;124m\"\u001b[39m\u001b[38;5;124m is \u001b[39m\u001b[38;5;124m\"\u001b[39m \u001b[38;5;241m+\u001b[39m \u001b[38;5;28mstr\u001b[39m(np\u001b[38;5;241m.\u001b[39mmean(scores)))\n\u001b[1;32m     21\u001b[0m \u001b[38;5;28mprint\u001b[39m(\u001b[38;5;124m\"\u001b[39m\u001b[38;5;124mThe var score for subject  \u001b[39m\u001b[38;5;124m\"\u001b[39m \u001b[38;5;241m+\u001b[39m \u001b[38;5;28mstr\u001b[39m(i) \u001b[38;5;241m+\u001b[39m \u001b[38;5;124m\"\u001b[39m\u001b[38;5;124m is \u001b[39m\u001b[38;5;124m\"\u001b[39m \u001b[38;5;241m+\u001b[39m \u001b[38;5;28mstr\u001b[39m(np\u001b[38;5;241m.\u001b[39mvar(scores)))\n",
      "File \u001b[0;32m~/.pyenv/versions/stage/lib/python3.11/site-packages/sklearn/model_selection/_validation.py:515\u001b[0m, in \u001b[0;36mcross_val_score\u001b[0;34m(estimator, X, y, groups, scoring, cv, n_jobs, verbose, fit_params, pre_dispatch, error_score)\u001b[0m\n\u001b[1;32m    512\u001b[0m \u001b[38;5;66;03m# To ensure multimetric format is not supported\u001b[39;00m\n\u001b[1;32m    513\u001b[0m scorer \u001b[38;5;241m=\u001b[39m check_scoring(estimator, scoring\u001b[38;5;241m=\u001b[39mscoring)\n\u001b[0;32m--> 515\u001b[0m cv_results \u001b[38;5;241m=\u001b[39m \u001b[43mcross_validate\u001b[49m\u001b[43m(\u001b[49m\n\u001b[1;32m    516\u001b[0m \u001b[43m    \u001b[49m\u001b[43mestimator\u001b[49m\u001b[38;5;241;43m=\u001b[39;49m\u001b[43mestimator\u001b[49m\u001b[43m,\u001b[49m\n\u001b[1;32m    517\u001b[0m \u001b[43m    \u001b[49m\u001b[43mX\u001b[49m\u001b[38;5;241;43m=\u001b[39;49m\u001b[43mX\u001b[49m\u001b[43m,\u001b[49m\n\u001b[1;32m    518\u001b[0m \u001b[43m    \u001b[49m\u001b[43my\u001b[49m\u001b[38;5;241;43m=\u001b[39;49m\u001b[43my\u001b[49m\u001b[43m,\u001b[49m\n\u001b[1;32m    519\u001b[0m \u001b[43m    \u001b[49m\u001b[43mgroups\u001b[49m\u001b[38;5;241;43m=\u001b[39;49m\u001b[43mgroups\u001b[49m\u001b[43m,\u001b[49m\n\u001b[1;32m    520\u001b[0m \u001b[43m    \u001b[49m\u001b[43mscoring\u001b[49m\u001b[38;5;241;43m=\u001b[39;49m\u001b[43m{\u001b[49m\u001b[38;5;124;43m\"\u001b[39;49m\u001b[38;5;124;43mscore\u001b[39;49m\u001b[38;5;124;43m\"\u001b[39;49m\u001b[43m:\u001b[49m\u001b[43m \u001b[49m\u001b[43mscorer\u001b[49m\u001b[43m}\u001b[49m\u001b[43m,\u001b[49m\n\u001b[1;32m    521\u001b[0m \u001b[43m    \u001b[49m\u001b[43mcv\u001b[49m\u001b[38;5;241;43m=\u001b[39;49m\u001b[43mcv\u001b[49m\u001b[43m,\u001b[49m\n\u001b[1;32m    522\u001b[0m \u001b[43m    \u001b[49m\u001b[43mn_jobs\u001b[49m\u001b[38;5;241;43m=\u001b[39;49m\u001b[43mn_jobs\u001b[49m\u001b[43m,\u001b[49m\n\u001b[1;32m    523\u001b[0m \u001b[43m    \u001b[49m\u001b[43mverbose\u001b[49m\u001b[38;5;241;43m=\u001b[39;49m\u001b[43mverbose\u001b[49m\u001b[43m,\u001b[49m\n\u001b[1;32m    524\u001b[0m \u001b[43m    \u001b[49m\u001b[43mfit_params\u001b[49m\u001b[38;5;241;43m=\u001b[39;49m\u001b[43mfit_params\u001b[49m\u001b[43m,\u001b[49m\n\u001b[1;32m    525\u001b[0m \u001b[43m    \u001b[49m\u001b[43mpre_dispatch\u001b[49m\u001b[38;5;241;43m=\u001b[39;49m\u001b[43mpre_dispatch\u001b[49m\u001b[43m,\u001b[49m\n\u001b[1;32m    526\u001b[0m \u001b[43m    \u001b[49m\u001b[43merror_score\u001b[49m\u001b[38;5;241;43m=\u001b[39;49m\u001b[43merror_score\u001b[49m\u001b[43m,\u001b[49m\n\u001b[1;32m    527\u001b[0m \u001b[43m\u001b[49m\u001b[43m)\u001b[49m\n\u001b[1;32m    528\u001b[0m \u001b[38;5;28;01mreturn\u001b[39;00m cv_results[\u001b[38;5;124m\"\u001b[39m\u001b[38;5;124mtest_score\u001b[39m\u001b[38;5;124m\"\u001b[39m]\n",
      "File \u001b[0;32m~/.pyenv/versions/stage/lib/python3.11/site-packages/sklearn/model_selection/_validation.py:285\u001b[0m, in \u001b[0;36mcross_validate\u001b[0;34m(estimator, X, y, groups, scoring, cv, n_jobs, verbose, fit_params, pre_dispatch, return_train_score, return_estimator, error_score)\u001b[0m\n\u001b[1;32m    265\u001b[0m parallel \u001b[38;5;241m=\u001b[39m Parallel(n_jobs\u001b[38;5;241m=\u001b[39mn_jobs, verbose\u001b[38;5;241m=\u001b[39mverbose, pre_dispatch\u001b[38;5;241m=\u001b[39mpre_dispatch)\n\u001b[1;32m    266\u001b[0m results \u001b[38;5;241m=\u001b[39m parallel(\n\u001b[1;32m    267\u001b[0m     delayed(_fit_and_score)(\n\u001b[1;32m    268\u001b[0m         clone(estimator),\n\u001b[0;32m   (...)\u001b[0m\n\u001b[1;32m    282\u001b[0m     \u001b[38;5;28;01mfor\u001b[39;00m train, test \u001b[38;5;129;01min\u001b[39;00m cv\u001b[38;5;241m.\u001b[39msplit(X, y, groups)\n\u001b[1;32m    283\u001b[0m )\n\u001b[0;32m--> 285\u001b[0m \u001b[43m_warn_or_raise_about_fit_failures\u001b[49m\u001b[43m(\u001b[49m\u001b[43mresults\u001b[49m\u001b[43m,\u001b[49m\u001b[43m \u001b[49m\u001b[43merror_score\u001b[49m\u001b[43m)\u001b[49m\n\u001b[1;32m    287\u001b[0m \u001b[38;5;66;03m# For callabe scoring, the return type is only know after calling. If the\u001b[39;00m\n\u001b[1;32m    288\u001b[0m \u001b[38;5;66;03m# return type is a dictionary, the error scores can now be inserted with\u001b[39;00m\n\u001b[1;32m    289\u001b[0m \u001b[38;5;66;03m# the correct key.\u001b[39;00m\n\u001b[1;32m    290\u001b[0m \u001b[38;5;28;01mif\u001b[39;00m \u001b[38;5;28mcallable\u001b[39m(scoring):\n",
      "File \u001b[0;32m~/.pyenv/versions/stage/lib/python3.11/site-packages/sklearn/model_selection/_validation.py:367\u001b[0m, in \u001b[0;36m_warn_or_raise_about_fit_failures\u001b[0;34m(results, error_score)\u001b[0m\n\u001b[1;32m    360\u001b[0m \u001b[38;5;28;01mif\u001b[39;00m num_failed_fits \u001b[38;5;241m==\u001b[39m num_fits:\n\u001b[1;32m    361\u001b[0m     all_fits_failed_message \u001b[38;5;241m=\u001b[39m (\n\u001b[1;32m    362\u001b[0m         \u001b[38;5;124mf\u001b[39m\u001b[38;5;124m\"\u001b[39m\u001b[38;5;130;01m\\n\u001b[39;00m\u001b[38;5;124mAll the \u001b[39m\u001b[38;5;132;01m{\u001b[39;00mnum_fits\u001b[38;5;132;01m}\u001b[39;00m\u001b[38;5;124m fits failed.\u001b[39m\u001b[38;5;130;01m\\n\u001b[39;00m\u001b[38;5;124m\"\u001b[39m\n\u001b[1;32m    363\u001b[0m         \u001b[38;5;124m\"\u001b[39m\u001b[38;5;124mIt is very likely that your model is misconfigured.\u001b[39m\u001b[38;5;130;01m\\n\u001b[39;00m\u001b[38;5;124m\"\u001b[39m\n\u001b[1;32m    364\u001b[0m         \u001b[38;5;124m\"\u001b[39m\u001b[38;5;124mYou can try to debug the error by setting error_score=\u001b[39m\u001b[38;5;124m'\u001b[39m\u001b[38;5;124mraise\u001b[39m\u001b[38;5;124m'\u001b[39m\u001b[38;5;124m.\u001b[39m\u001b[38;5;130;01m\\n\u001b[39;00m\u001b[38;5;130;01m\\n\u001b[39;00m\u001b[38;5;124m\"\u001b[39m\n\u001b[1;32m    365\u001b[0m         \u001b[38;5;124mf\u001b[39m\u001b[38;5;124m\"\u001b[39m\u001b[38;5;124mBelow are more details about the failures:\u001b[39m\u001b[38;5;130;01m\\n\u001b[39;00m\u001b[38;5;132;01m{\u001b[39;00mfit_errors_summary\u001b[38;5;132;01m}\u001b[39;00m\u001b[38;5;124m\"\u001b[39m\n\u001b[1;32m    366\u001b[0m     )\n\u001b[0;32m--> 367\u001b[0m     \u001b[38;5;28;01mraise\u001b[39;00m \u001b[38;5;167;01mValueError\u001b[39;00m(all_fits_failed_message)\n\u001b[1;32m    369\u001b[0m \u001b[38;5;28;01melse\u001b[39;00m:\n\u001b[1;32m    370\u001b[0m     some_fits_failed_message \u001b[38;5;241m=\u001b[39m (\n\u001b[1;32m    371\u001b[0m         \u001b[38;5;124mf\u001b[39m\u001b[38;5;124m\"\u001b[39m\u001b[38;5;130;01m\\n\u001b[39;00m\u001b[38;5;132;01m{\u001b[39;00mnum_failed_fits\u001b[38;5;132;01m}\u001b[39;00m\u001b[38;5;124m fits failed out of a total of \u001b[39m\u001b[38;5;132;01m{\u001b[39;00mnum_fits\u001b[38;5;132;01m}\u001b[39;00m\u001b[38;5;124m.\u001b[39m\u001b[38;5;130;01m\\n\u001b[39;00m\u001b[38;5;124m\"\u001b[39m\n\u001b[1;32m    372\u001b[0m         \u001b[38;5;124m\"\u001b[39m\u001b[38;5;124mThe score on these train-test partitions for these parameters\u001b[39m\u001b[38;5;124m\"\u001b[39m\n\u001b[0;32m   (...)\u001b[0m\n\u001b[1;32m    376\u001b[0m         \u001b[38;5;124mf\u001b[39m\u001b[38;5;124m\"\u001b[39m\u001b[38;5;124mBelow are more details about the failures:\u001b[39m\u001b[38;5;130;01m\\n\u001b[39;00m\u001b[38;5;132;01m{\u001b[39;00mfit_errors_summary\u001b[38;5;132;01m}\u001b[39;00m\u001b[38;5;124m\"\u001b[39m\n\u001b[1;32m    377\u001b[0m     )\n",
      "\u001b[0;31mValueError\u001b[0m: \nAll the 5 fits failed.\nIt is very likely that your model is misconfigured.\nYou can try to debug the error by setting error_score='raise'.\n\nBelow are more details about the failures:\n--------------------------------------------------------------------------------\n5 fits failed with the following error:\nTraceback (most recent call last):\n  File \"/Users/thibaultdesurrel/.pyenv/versions/stage/lib/python3.11/site-packages/sklearn/model_selection/_validation.py\", line 686, in _fit_and_score\n    estimator.fit(X_train, y_train, **fit_params)\n  File \"/Users/thibaultdesurrel/Documents/ENSTA/Stage/Trajectory_MDM/dtw_fgmdm_temporelle.py\", line 659, in fit\n    cov_traj = self.preprocess_data(X, y)\n               ^^^^^^^^^^^^^^^^^^^^^^^^^^\n  File \"/Users/thibaultdesurrel/Documents/ENSTA/Stage/Trajectory_MDM/dtw_fgmdm_temporelle.py\", line 557, in preprocess_data\n    traj_temp.append(self.get_temporal_trajectories(X[i], self.size_window, self.overlap))\n                                                                            ^^^^^^^^^^^^\nAttributeError: 'PT_MDM' object has no attribute 'overlap'\n"
     ]
    }
   ],
   "source": [
    "accuracy_list_PT_MDM = np.array([])\n",
    "for i in dataset.subject_list:\n",
    "    print(\"=========================================\")\n",
    "    print(\"Loading the data...\")\n",
    "    print(\"Training for subject \" + str(i))\n",
    "    X, labels, meta = paradigm.get_data(dataset=dataset, subjects=[i])\n",
    "    (nb_traj, nb_sensors, length_EEG) = X.shape\n",
    "    # Data loaded\n",
    "    \n",
    "    manifold = SymmetricPositiveDefinite(n=nb_sensors)\n",
    "    \n",
    "    # Creating the 5 splits \n",
    "    cv = KFold(n_splits=5, shuffle=True, random_state = 42)\n",
    "    PT_MDM_ = PT_MDM(manifold, size_window,cov_estimator='lwf')\n",
    "    print(\"Starting cross validation\")\n",
    "    \n",
    "    # Computing the scores on the 5 splits\n",
    "    scores = cross_val_score(PT_MDM_, X, labels, cv=cv, n_jobs=-1, verbose=1)\n",
    "\n",
    "    print(\"The mean score for subject  \" + str(i) + \" is \" + str(np.mean(scores)))\n",
    "    print(\"The var score for subject  \" + str(i) + \" is \" + str(np.var(scores)))\n",
    "    #print(\"It took \" + str(time_train) + \" sec to train\")\n",
    "    accuracy_list_PT_MDM = np.concatenate((accuracy_list_PT_MD,scores))"
   ]
  },
  {
   "cell_type": "code",
   "execution_count": null,
   "id": "ece96ffb-6584-44d4-b71e-1fc53979652f",
   "metadata": {},
   "outputs": [],
   "source": [
    "plt.figure()\n",
    "plt.boxplot(accuracy_list_PT_MDM.reshape((4,5)).T)\n",
    "plt.xlabel(\"Subject number\")\n",
    "plt.ylabel(\"Accuracy\")\n",
    "plt.title(\"Box plot for the results of PT-MDM on the Zhou2016 dataset \\n Mean accuracy intrasubject : \" + str(np.mean(accuracy_list_PT_MDM)))\n",
    "plt.show()"
   ]
  },
  {
   "cell_type": "markdown",
   "id": "02cccbe9-bd9f-4e17-a654-a932c830828c",
   "metadata": {},
   "source": [
    "We can now compare the results with the state of the art FgMDM [3]. "
   ]
  },
  {
   "cell_type": "code",
   "execution_count": null,
   "id": "2dda79d8-9521-4a2b-abcb-f9ce599981cf",
   "metadata": {},
   "outputs": [],
   "source": [
    "accuracy_list_FgMDM = np.array([])\n",
    "for i in dataset.subject_list:\n",
    "    print(\"=========================================\")\n",
    "    print(\"Loading the data...\")\n",
    "    print(\"Training for subject \" + str(i))\n",
    "    X, labels, meta = paradigm.get_data(dataset=dataset, subjects=[i])\n",
    "    print(\"Data loaded !\")\n",
    "    \n",
    "    cov_data_train = Covariances(estimator = 'lwf').transform(X)\n",
    "\n",
    "    cv = KFold(n_splits=5, shuffle=True, random_state=42)\n",
    "    mdm = FgMDM()\n",
    "    scores = cross_val_score(mdm, cov_data_train, labels, cv=cv, n_jobs=-1)\n",
    "    print(\"The mean score for subject  \" + str(i) + \" is \" + str(np.mean(scores)))\n",
    "    accuracy_list_FgMDM = np.concatenate((accuracy_list_FgMDM,scores))"
   ]
  },
  {
   "cell_type": "code",
   "execution_count": null,
   "id": "77f25cb8-ecac-4396-a769-6cb3ad3ca907",
   "metadata": {},
   "outputs": [],
   "source": [
    "plt.figure()\n",
    "plt.boxplot(accuracy_list_FgMDM.reshape((4,5)).T)\n",
    "plt.xlabel(\"Subject number\")\n",
    "plt.ylabel(\"Accuracy\")\n",
    "plt.title(\"Box plot for the results of FgMDM on the Zhou2016 dataset \\n Mean accuracy intrasubject : \" + str(np.mean(accuracy_list_FgMDM)))\n",
    "plt.show()"
   ]
  },
  {
   "cell_type": "markdown",
   "id": "62c0dfd8-d1d0-4ab8-8a14-d801425df56d",
   "metadata": {},
   "source": [
    "### References"
   ]
  },
  {
   "cell_type": "markdown",
   "id": "5596792a-8ed5-4737-aaf4-e8e57576beb0",
   "metadata": {},
   "source": [
    "[1] B. Zhou, X. Wu, Z. Lv, L. Zhang, and X. Guo, “A fully automated trial selection method for optimization of motor imagery based brain-computer interface,” _PLOS ONE_, vol. 11, no. 9, pp. 1–20, 09 2016.\n",
    "\n",
    "[2] V. Jayaram and A. Barachant, “Moabb: trustworthy algorithm benchmarking for bcis,” _J Neural Eng_, vol. 15, no. 6, pp. 066011, 2018.\n",
    "\n",
    "[3] A. Barachant, S. Bonnet, M. Congedo, and C. Jutten, “Riemannian geometry applied to BCI classification,” in _LVA/ICA 2010_. Sept. 2010, vol. 6365, p. 629, Springer."
   ]
  }
 ],
 "metadata": {
  "kernelspec": {
   "display_name": "Python (myenv)",
   "language": "python",
   "name": "myenv"
  },
  "language_info": {
   "codemirror_mode": {
    "name": "ipython",
    "version": 3
   },
   "file_extension": ".py",
   "mimetype": "text/x-python",
   "name": "python",
   "nbconvert_exporter": "python",
   "pygments_lexer": "ipython3",
   "version": "3.11.3"
  }
 },
 "nbformat": 4,
 "nbformat_minor": 5
}
