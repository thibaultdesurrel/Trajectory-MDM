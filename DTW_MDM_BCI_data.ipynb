{
 "cells": [
  {
   "cell_type": "markdown",
   "id": "15a6ed76-4730-4811-b9aa-e42f7831574c",
   "metadata": {},
   "source": [
    "# DTW-MDM on BCI data"
   ]
  },
  {
   "cell_type": "markdown",
   "id": "3cf27ad7-16c0-4313-ad0f-0a114259a1a3",
   "metadata": {},
   "source": [
    "In tihis notebook, we show how to reproduce the results of the paper _AVERAGING TRAJECTORIES ON THE MANIFOLD OF COVARIANCE MATRICES_ on real BCI data. We will show how to use the DTW-MDM code that is also provided in this repository and compare the results to the FgMDM [3] on one dataset."
   ]
  },
  {
   "cell_type": "code",
   "execution_count": 1,
   "id": "e7969141-aa2b-48b8-a986-85856a59f787",
   "metadata": {},
   "outputs": [],
   "source": [
    "import numpy as np\n",
    "from pymanopt.manifolds import SymmetricPositiveDefinite\n",
    "\n",
    "from dtw_fgmdm_temporelle import DTW_MDM_Temp\n",
    "\n",
    "import moabb\n",
    "from moabb.datasets import Zhou2016\n",
    "from moabb.paradigms import FilterBankMotorImagery\n",
    "from pyriemann.classification import FgMDM\n",
    "from pyriemann.estimation import Covariances\n",
    "\n",
    "from sklearn.model_selection import cross_val_score, KFold\n",
    "\n",
    "import matplotlib.pyplot as plt\n",
    "import warnings\n",
    "warnings.filterwarnings('ignore')"
   ]
  },
  {
   "cell_type": "markdown",
   "id": "a61e1636-e102-4501-ac27-df1dacdf4e15",
   "metadata": {},
   "source": [
    "We start by loading the dataset that we want to work with, in thhis example we chose the dataset `Zhou2016` [1] from the MOABB library [2] because of its small size. We apply some simple preprocess such as applying a standard band-pass filter with range $[7; 35]$ Hz."
   ]
  },
  {
   "cell_type": "code",
   "execution_count": 3,
   "id": "0cf09aaf-467f-4e85-8c53-f34df091094d",
   "metadata": {},
   "outputs": [
    {
     "name": "stderr",
     "output_type": "stream",
     "text": [
      "Choosing from all possible events\n"
     ]
    }
   ],
   "source": [
    "dataset = Zhou2016()\n",
    "filters = [[7,35]]\n",
    "paradigm = FilterBankMotorImagery(filters = filters)\n",
    "f_ech = 250 #Hz"
   ]
  },
  {
   "cell_type": "markdown",
   "id": "98e98b00-8bf2-488d-8a43-7c6a746a90ff",
   "metadata": {},
   "source": [
    "We choose the hyperparameters for our DTW-MDM classifier as described in the paper. For this dataset we choose a number of iterations `nb_it = 10`, a threshold for the convergence `eps = 10e-5`, the size of the sub-windows of the EEG to be $1$ sec so `size_window = 1*f_ech` and the number of points on the mean trajectory `size_mean_traj = 6`. "
   ]
  },
  {
   "cell_type": "code",
   "execution_count": 4,
   "id": "46b84932-12ca-45c9-9361-2f638525ead7",
   "metadata": {},
   "outputs": [],
   "source": [
    "nb_it = 10\n",
    "eps = 1e-5\n",
    "size_mean_traj = 6\n",
    "size_window = int(1*f_ech)"
   ]
  },
  {
   "cell_type": "markdown",
   "id": "76b54550-5cbb-4e30-beee-db449b563bcc",
   "metadata": {},
   "source": [
    "For each subject, we will train a classifer on 5 different splits of the data in order to have the mean accuracy over 5 folds. "
   ]
  },
  {
   "cell_type": "code",
   "execution_count": 5,
   "id": "dd450b78-08d1-4621-8878-59174d65a855",
   "metadata": {},
   "outputs": [
    {
     "name": "stdout",
     "output_type": "stream",
     "text": [
      "=========================================\n",
      "Loading the data...\n",
      "Training for subject 1\n",
      "Reading 0 ... 305029  =      0.000 ...  1220.116 secs...\n",
      "Reading 0 ... 430479  =      0.000 ...  1721.916 secs...\n",
      "Reading 0 ... 252599  =      0.000 ...  1010.396 secs...\n",
      "Reading 0 ... 296649  =      0.000 ...  1186.596 secs...\n",
      "Reading 0 ... 233249  =      0.000 ...   932.996 secs...\n",
      "Reading 0 ... 226219  =      0.000 ...   904.876 secs...\n",
      "Starting cross validation\n"
     ]
    },
    {
     "name": "stderr",
     "output_type": "stream",
     "text": [
      "[Parallel(n_jobs=-1)]: Using backend LokyBackend with 8 concurrent workers.\n",
      "  0%|          | 0/10 [00:00<?, ?it/s]\n",
      "  0%|          | 0/10 [00:00<?, ?it/s]\n",
      "  0%|          | 0/10 [00:00<?, ?it/s]\u001b[A\n",
      "  0%|          | 0/10 [00:00<?, ?it/s]\u001b[A\n",
      "  0%|          | 0/10 [00:00<?, ?it/s]\u001b[A\n",
      " 10%|█         | 1/10 [00:23<03:34, 23.84s/it]\n",
      " 10%|█         | 1/10 [00:25<03:47, 25.31s/it]\u001b[A\n",
      " 10%|█         | 1/10 [00:25<03:49, 25.48s/it]\u001b[A\n",
      " 10%|█         | 1/10 [00:28<04:14, 28.23s/it]\u001b[A\n",
      " 10%|█         | 1/10 [00:28<04:17, 28.67s/it]\u001b[A\n",
      " 20%|██        | 2/10 [00:47<03:05, 23.21s/it]\u001b[A\n",
      " 20%|██        | 2/10 [00:47<03:08, 23.55s/it]\u001b[A\n",
      " 20%|██        | 2/10 [00:47<03:11, 23.92s/it]\u001b[A\n",
      " 20%|██        | 2/10 [00:50<03:18, 24.83s/it]\u001b[A\n",
      " 20%|██        | 2/10 [00:52<03:31, 26.40s/it]\u001b[A\n",
      " 20%|██        | 2/10 [00:56<03:41, 27.67s/it]\u001b[A\n",
      " 30%|███       | 3/10 [01:10<02:39, 22.74s/it]\u001b[A\n",
      " 30%|███       | 3/10 [01:10<02:42, 23.19s/it]\u001b[A\n",
      " 30%|███       | 3/10 [01:12<02:49, 24.23s/it]\u001b[A\n",
      " 30%|███       | 3/10 [01:15<02:51, 24.44s/it]\u001b[A\n",
      " 30%|███       | 3/10 [01:19<03:00, 25.82s/it]\u001b[A\n",
      " 40%|████      | 4/10 [01:31<02:14, 22.49s/it]\u001b[A\n",
      " 40%|████      | 4/10 [01:32<02:17, 22.90s/it]\u001b[A\n",
      " 40%|████      | 4/10 [01:33<02:17, 22.92s/it]\u001b[A\n",
      " 40%|████      | 4/10 [01:39<02:27, 24.56s/it]\u001b[A\n",
      " 40%|████      | 4/10 [01:43<02:29, 24.87s/it]\u001b[A\n",
      " 50%|█████     | 5/10 [01:54<01:52, 22.40s/it]\u001b[A\n",
      " 50%|█████     | 5/10 [01:57<01:55, 23.19s/it]\u001b[A\n",
      " 50%|█████     | 5/10 [01:57<01:57, 23.51s/it]\u001b[A\n",
      " 50%|█████     | 5/10 [02:03<02:02, 24.52s/it]\u001b[A\n",
      " 50%|█████     | 5/10 [02:03<01:57, 23.41s/it]\u001b[A\n",
      " 60%|██████    | 6/10 [02:11<01:24, 21.08s/it]\u001b[A\n",
      " 60%|██████    | 6/10 [02:14<01:26, 21.70s/it]\u001b[A\n",
      " 60%|██████    | 6/10 [02:21<01:29, 22.44s/it]\u001b[A\n",
      " 60%|██████    | 6/10 [02:21<01:25, 21.38s/it]\u001b[A\n",
      " 70%|███████   | 7/10 [02:24<00:52, 17.45s/it]\u001b[A\n",
      " 60%|██████    | 6/10 [02:27<01:37, 24.37s/it]\u001b[A\n",
      " 70%|███████   | 7/10 [02:31<00:53, 17.68s/it]\u001b[A\n",
      " 70%|███████   | 7/10 [02:34<01:00, 20.17s/it]\u001b[A\n",
      " 70%|███████   | 7/10 [02:35<01:06, 22.10s/it]\u001b[A\n",
      " 70%|███████   | 7/10 [02:40<01:09, 23.12s/it]\u001b[A\n",
      " 80%|████████  | 8/10 [02:50<00:35, 17.79s/it]\u001b[A\n",
      " 80%|████████  | 8/10 [02:51<00:38, 19.29s/it]\u001b[A\n",
      " 80%|████████  | 8/10 [02:52<00:37, 18.90s/it]\u001b[A\n",
      " 80%|████████  | 8/10 [02:55<00:43, 21.95s/it]\u001b[A\n",
      " 70%|███████   | 7/10 [02:56<01:17, 25.76s/it]\n",
      " 90%|█████████ | 9/10 [02:56<00:16, 16.05s/it]\u001b[A\n",
      " 90%|█████████ | 9/10 [03:00<00:20, 20.03s/it]\u001b[A\n",
      " 90%|█████████ | 9/10 [03:05<00:20, 20.56s/it]\n",
      " 80%|████████  | 8/10 [03:05<00:40, 20.42s/it]\n",
      " 80%|████████  | 8/10 [03:07<00:45, 22.57s/it]\u001b[A\n",
      " 90%|█████████ | 9/10 [03:13<00:21, 21.49s/it]\u001b[A\n",
      " 90%|█████████ | 9/10 [03:17<00:18, 18.58s/it]\n",
      "100%|██████████| 10/10 [03:21<00:00, 20.11s/it][A\n",
      "[Parallel(n_jobs=-1)]: Done   2 out of   5 | elapsed:  3.4min remaining:  5.1min\n",
      "100%|██████████| 10/10 [03:21<00:00, 20.16s/it]\n",
      " 90%|█████████ | 9/10 [03:25<00:22, 22.57s/it]\n",
      "100%|██████████| 10/10 [03:26<00:00, 20.65s/it]\u001b[A\n",
      "\n",
      "100%|██████████| 10/10 [03:32<00:00, 21.28s/it]\u001b[A\n",
      "100%|██████████| 10/10 [03:34<00:00, 21.40s/it]\n",
      "100%|██████████| 10/10 [03:34<00:00, 21.48s/it]\n",
      "[Parallel(n_jobs=-1)]: Done   5 out of   5 | elapsed:  3.6min finished\n"
     ]
    },
    {
     "name": "stdout",
     "output_type": "stream",
     "text": [
      "The mean score for subject  1 is 0.8838789682539682\n",
      "The var score for subject  1 is 0.0018576930193373643\n",
      "=========================================\n",
      "Loading the data...\n",
      "Training for subject 2\n",
      "Reading 0 ... 227539  =      0.000 ...   910.156 secs...\n",
      "Reading 0 ... 216079  =      0.000 ...   864.316 secs...\n",
      "Reading 0 ... 213939  =      0.000 ...   855.756 secs...\n",
      "Reading 0 ... 175269  =      0.000 ...   701.076 secs...\n",
      "Reading 0 ... 213209  =      0.000 ...   852.836 secs...\n",
      "Reading 0 ... 217659  =      0.000 ...   870.636 secs...\n",
      "Starting cross validation\n"
     ]
    },
    {
     "name": "stderr",
     "output_type": "stream",
     "text": [
      "[Parallel(n_jobs=-1)]: Using backend LokyBackend with 8 concurrent workers.\n",
      "  0%|          | 0/10 [00:00<?, ?it/s]\n",
      "  0%|          | 0/10 [00:00<?, ?it/s]\u001b[A\n",
      "  0%|          | 0/10 [00:00<?, ?it/s]\u001b[A\n",
      "  0%|          | 0/10 [00:00<?, ?it/s]\u001b[A\n",
      "  0%|          | 0/10 [00:00<?, ?it/s]\u001b[A\n",
      "  0%|          | 0/10 [00:00<?, ?it/s]\u001b[A\n",
      " 10%|█         | 1/10 [00:24<03:42, 24.76s/it]\u001b[A\n",
      " 10%|█         | 1/10 [00:26<03:57, 26.34s/it]\u001b[A\n",
      " 10%|█         | 1/10 [00:27<04:03, 27.11s/it]\u001b[A\n",
      " 10%|█         | 1/10 [00:28<04:14, 28.29s/it]\u001b[A\n",
      " 20%|██        | 2/10 [00:44<02:53, 21.72s/it]\u001b[A\n",
      " 20%|██        | 2/10 [00:45<03:00, 22.62s/it]\u001b[A\n",
      " 20%|██        | 2/10 [00:47<03:05, 23.22s/it]\u001b[A\n",
      " 20%|██        | 2/10 [00:47<03:09, 23.64s/it]\u001b[A\n",
      " 20%|██        | 2/10 [00:48<03:05, 23.14s/it]\u001b[A\n",
      " 20%|██        | 2/10 [00:54<03:29, 26.15s/it]\u001b[A\n",
      " 30%|███       | 3/10 [01:06<02:32, 21.80s/it]\u001b[A\n",
      " 30%|███       | 3/10 [01:07<02:31, 21.59s/it]\u001b[A\n",
      " 30%|███       | 3/10 [01:08<02:35, 22.25s/it]\u001b[A\n",
      " 30%|███       | 3/10 [01:11<02:41, 23.01s/it]\u001b[A\n",
      " 30%|███       | 3/10 [01:18<02:58, 25.53s/it]\u001b[A\n",
      " 40%|████      | 4/10 [01:23<01:58, 19.75s/it]\u001b[A\n",
      " 40%|████      | 4/10 [01:29<02:12, 22.10s/it]\u001b[A\n",
      " 40%|████      | 4/10 [01:37<02:26, 24.46s/it]\u001b[A\n",
      " 40%|████      | 4/10 [01:37<02:29, 24.99s/it]\u001b[A\n",
      " 40%|████      | 4/10 [01:43<02:36, 26.15s/it]\u001b[A\n",
      " 50%|█████     | 5/10 [01:49<01:40, 20.07s/it]\u001b[A\n",
      " 40%|████      | 4/10 [01:50<02:48, 28.08s/it]\u001b[A\n",
      " 50%|█████     | 5/10 [01:50<01:46, 21.22s/it]\u001b[A\n",
      " 60%|██████    | 6/10 [01:52<01:03, 15.97s/it]\u001b[A\n",
      " 50%|█████     | 5/10 [01:58<01:57, 23.46s/it]\u001b[A\n",
      " 50%|█████     | 5/10 [02:00<02:00, 24.20s/it]\u001b[A\n",
      "\n",
      " 60%|██████    | 6/10 [02:04<01:22, 20.67s/it]\u001b[A\n",
      " 70%|███████   | 7/10 [02:05<00:53, 17.98s/it]\n",
      " 60%|██████    | 6/10 [02:06<01:24, 21.02s/it]\n",
      "\n",
      " 50%|█████     | 5/10 [02:11<02:07, 25.53s/it]\u001b[A\n",
      " 60%|██████    | 6/10 [02:20<01:18, 19.64s/it]\u001b[A\n",
      " 70%|███████   | 7/10 [02:28<00:48, 16.07s/it]\u001b[A\n",
      "100%|██████████| 10/10 [02:39<00:00, 15.95s/it][A\n",
      "[Parallel(n_jobs=-1)]: Done   2 out of   5 | elapsed:  2.7min remaining:  4.0min\n",
      " 90%|█████████ | 9/10 [02:41<00:17, 17.92s/it]\n",
      "\n",
      " 80%|████████  | 8/10 [02:42<00:36, 18.42s/it]\u001b[A\n",
      " 80%|████████  | 8/10 [02:50<00:36, 18.39s/it]\u001b[A\n",
      " 90%|█████████ | 9/10 [02:52<00:15, 15.86s/it]\u001b[A\n",
      " 80%|████████  | 8/10 [02:56<00:35, 17.73s/it]\u001b[A\n",
      " 90%|█████████ | 9/10 [03:02<00:13, 14.00s/it]\u001b[A\n",
      "100%|██████████| 10/10 [03:03<00:00, 18.37s/it]\u001b[A\n",
      " 90%|█████████ | 9/10 [03:05<00:20, 20.61s/it]\n",
      "100%|██████████| 10/10 [03:14<00:00, 19.48s/it]\n"
     ]
    },
    {
     "name": "stdout",
     "output_type": "stream",
     "text": [
      "The mean score for subject  2 is 0.7586206896551724\n",
      "The var score for subject  2 is 0.0013079667063020206\n",
      "=========================================\n",
      "Loading the data...\n",
      "Training for subject 3\n",
      "Reading 0 ... 219849  =      0.000 ...   879.396 secs...\n"
     ]
    },
    {
     "name": "stderr",
     "output_type": "stream",
     "text": [
      "100%|██████████| 10/10 [03:18<00:00, 19.88s/it]\n",
      "[Parallel(n_jobs=-1)]: Done   5 out of   5 | elapsed:  3.3min finished\n"
     ]
    },
    {
     "name": "stdout",
     "output_type": "stream",
     "text": [
      "Reading 0 ... 216709  =      0.000 ...   866.836 secs...\n",
      "Reading 0 ... 226609  =      0.000 ...   906.436 secs...\n",
      "Reading 0 ... 266929  =      0.000 ...  1067.716 secs...\n",
      "Reading 0 ... 227989  =      0.000 ...   911.956 secs...\n",
      "Reading 0 ... 222459  =      0.000 ...   889.836 secs...\n",
      "Starting cross validation\n"
     ]
    },
    {
     "name": "stderr",
     "output_type": "stream",
     "text": [
      "[Parallel(n_jobs=-1)]: Using backend LokyBackend with 8 concurrent workers.\n",
      "  0%|          | 0/10 [00:00<?, ?it/s]\n",
      "  0%|          | 0/10 [00:00<?, ?it/s]\u001b[A\n",
      "  0%|          | 0/10 [00:00<?, ?it/s]\n",
      "  0%|          | 0/10 [00:00<?, ?it/s]\u001b[A\u001b[A\n",
      "  0%|          | 0/10 [00:00<?, ?it/s]\u001b[A\n",
      "  0%|          | 0/10 [00:00<?, ?it/s]\u001b[A\n",
      " 10%|█         | 1/10 [00:23<03:35, 23.93s/it]\u001b[A\n",
      " 10%|█         | 1/10 [00:28<04:14, 28.22s/it]\u001b[A\n",
      " 10%|█         | 1/10 [00:28<04:18, 28.68s/it]\u001b[A\n",
      " 10%|█         | 1/10 [00:29<04:25, 29.45s/it]\u001b[A\n",
      " 10%|█         | 1/10 [00:35<05:18, 35.34s/it]\u001b[A\n",
      " 20%|██        | 2/10 [00:46<03:02, 22.84s/it]\u001b[A\n",
      " 20%|██        | 2/10 [00:47<03:09, 23.73s/it]\u001b[A\n",
      " 20%|██        | 2/10 [00:53<03:32, 26.56s/it]\u001b[A\n",
      " 20%|██        | 2/10 [00:55<03:41, 27.70s/it]\u001b[A\n",
      " 20%|██        | 2/10 [01:02<04:05, 30.70s/it]\u001b[A\n",
      " 30%|███       | 3/10 [01:10<02:45, 23.60s/it]\u001b[A\n",
      " 30%|███       | 3/10 [01:10<02:43, 23.33s/it]\u001b[A\n",
      " 30%|███       | 3/10 [01:20<03:01, 25.93s/it]\u001b[A\n",
      " 30%|███       | 3/10 [01:24<03:12, 27.55s/it]\u001b[A\n",
      " 30%|███       | 3/10 [01:25<03:18, 28.29s/it]\u001b[A\n",
      " 40%|████      | 4/10 [01:38<02:19, 23.32s/it]\u001b[A\n",
      " 40%|████      | 4/10 [01:38<02:31, 25.32s/it]\u001b[A\n",
      " 40%|████      | 4/10 [01:48<02:40, 26.67s/it]\u001b[A\n",
      " 40%|████      | 4/10 [01:49<02:41, 26.98s/it]\u001b[A\n",
      " 40%|████      | 4/10 [01:53<02:50, 28.36s/it]\u001b[A\n",
      " 40%|████      | 4/10 [02:00<02:55, 29.31s/it]\u001b[A\n",
      " 50%|█████     | 5/10 [02:03<02:05, 25.03s/it]\u001b[A\n",
      " 50%|█████     | 5/10 [02:13<02:09, 25.93s/it]\u001b[A\n",
      " 50%|█████     | 5/10 [02:15<02:14, 26.98s/it]\u001b[A\n",
      " 60%|██████    | 6/10 [02:23<01:31, 22.80s/it]\u001b[A\n",
      " 50%|█████     | 5/10 [02:24<02:17, 27.49s/it]\u001b[A\n",
      " 60%|██████    | 6/10 [02:27<01:28, 22.09s/it]\u001b[A\n",
      " 70%|███████   | 7/10 [02:43<01:00, 20.21s/it]\u001b[A\n",
      " 80%|████████  | 8/10 [02:49<00:34, 17.49s/it]\u001b[A\n",
      " 60%|██████    | 6/10 [02:49<01:57, 29.47s/it]\u001b[A\n",
      " 60%|██████    | 6/10 [02:52<01:49, 27.42s/it]\u001b[A\n",
      " 80%|████████  | 8/10 [02:54<00:43, 21.84s/it]\u001b[A\n",
      " 70%|███████   | 7/10 [02:59<01:11, 23.98s/it]\n",
      " 80%|████████  | 8/10 [03:00<00:45, 22.56s/it]\u001b[A\n",
      "\n",
      " 80%|████████  | 8/10 [03:05<00:42, 21.28s/it]\u001b[A\n",
      " 70%|███████   | 7/10 [03:06<01:15, 25.10s/it]\u001b[A\n",
      " 80%|████████  | 8/10 [03:10<00:48, 24.27s/it]\u001b[A\n",
      " 70%|███████   | 7/10 [03:15<01:18, 26.22s/it]\u001b[A\n",
      " 80%|████████  | 8/10 [03:17<00:41, 20.59s/it]\u001b[A\n",
      "100%|██████████| 10/10 [03:21<00:00, 20.11s/it]\u001b[A\n",
      "\n",
      " 80%|████████  | 8/10 [03:25<00:49, 24.72s/it]\u001b[A\n",
      " 90%|█████████ | 9/10 [03:25<00:16, 16.91s/it]\u001b[A\n",
      " 90%|█████████ | 9/10 [03:29<00:23, 23.26s/it]\u001b[A\n",
      "[Parallel(n_jobs=-1)]: Done   2 out of   5 | elapsed:  3.5min remaining:  5.3min\n",
      "\n",
      " 80%|████████  | 8/10 [03:44<00:54, 27.14s/it]\u001b[A\n",
      "100%|██████████| 10/10 [03:48<00:00, 22.85s/it]\u001b[A\n",
      "\n",
      " 90%|█████████ | 9/10 [03:48<00:24, 24.88s/it]\u001b[A\n",
      "100%|██████████| 10/10 [03:59<00:00, 23.91s/it][A\n",
      "\n",
      "100%|██████████| 10/10 [04:05<00:00, 24.56s/it][A\n",
      "\n",
      "100%|██████████| 10/10 [04:06<00:00, 24.64s/it]\u001b[A\n",
      "100%|██████████| 10/10 [04:09<00:00, 24.98s/it]\n",
      "\n",
      "100%|██████████| 10/10 [04:11<00:00, 25.12s/it]\u001b[A\n",
      "[Parallel(n_jobs=-1)]: Done   5 out of   5 | elapsed:  4.2min finished\n"
     ]
    },
    {
     "name": "stdout",
     "output_type": "stream",
     "text": [
      "The mean score for subject  3 is 0.95\n",
      "The var score for subject  3 is 0.0006666666666666663\n",
      "=========================================\n",
      "Loading the data...\n",
      "Training for subject 4\n",
      "Reading 0 ... 181339  =      0.000 ...   725.356 secs...\n",
      "Reading 0 ... 217139  =      0.000 ...   868.556 secs...\n",
      "Reading 0 ... 215399  =      0.000 ...   861.596 secs...\n",
      "Reading 0 ... 212209  =      0.000 ...   848.836 secs...\n",
      "Reading 0 ... 209799  =      0.000 ...   839.196 secs...\n",
      "Reading 0 ... 217109  =      0.000 ...   868.436 secs...\n",
      "Starting cross validation\n"
     ]
    },
    {
     "name": "stderr",
     "output_type": "stream",
     "text": [
      "[Parallel(n_jobs=-1)]: Using backend LokyBackend with 8 concurrent workers.\n",
      "  0%|          | 0/10 [00:00<?, ?it/s]\n",
      "  0%|          | 0/10 [00:00<?, ?it/s]\u001b[A\n",
      "  0%|          | 0/10 [00:00<?, ?it/s]\u001b[A\n",
      "  0%|          | 0/10 [00:00<?, ?it/s]\u001b[A\n",
      "  0%|          | 0/10 [00:00<?, ?it/s]\u001b[A\n",
      " 10%|█         | 1/10 [00:29<04:28, 29.83s/it]\n",
      " 10%|█         | 1/10 [00:29<04:29, 29.92s/it]\u001b[A\n",
      " 10%|█         | 1/10 [00:32<04:51, 32.41s/it]\u001b[A\n",
      " 10%|█         | 1/10 [00:34<05:12, 34.69s/it]\u001b[A\n",
      " 10%|█         | 1/10 [00:35<05:17, 35.29s/it]\u001b[A\n",
      " 10%|█         | 1/10 [00:37<05:34, 37.21s/it]\u001b[A\n",
      " 20%|██        | 2/10 [00:53<03:28, 26.07s/it]\u001b[A\n",
      " 20%|██        | 2/10 [00:58<03:47, 28.43s/it]\u001b[A\n",
      " 20%|██        | 2/10 [01:02<04:09, 31.17s/it]\u001b[A\n",
      " 20%|██        | 2/10 [01:02<04:06, 30.87s/it]\u001b[A\n",
      " 20%|██        | 2/10 [01:03<04:14, 31.77s/it]\u001b[A\n",
      " 30%|███       | 3/10 [01:19<03:03, 26.20s/it]\u001b[A\n",
      " 30%|███       | 3/10 [01:21<03:01, 25.89s/it]\u001b[A\n",
      " 30%|███       | 3/10 [01:28<03:26, 29.54s/it]\u001b[A\n",
      " 30%|███       | 3/10 [01:28<03:21, 28.76s/it]\u001b[A\n",
      " 30%|███       | 3/10 [01:35<03:41, 31.70s/it]\u001b[A\n",
      " 40%|████      | 4/10 [01:47<02:28, 24.80s/it]\u001b[A\n",
      " 40%|████      | 4/10 [01:49<02:37, 26.21s/it]\u001b[A\n",
      " 40%|████      | 4/10 [01:52<02:40, 26.81s/it]\u001b[A\n",
      " 40%|████      | 4/10 [01:58<02:57, 29.53s/it]\u001b[A\n",
      " 50%|█████     | 5/10 [02:05<01:51, 22.36s/it]\u001b[A\n",
      " 50%|█████     | 5/10 [02:06<01:54, 22.99s/it]\u001b[A\n",
      " 50%|█████     | 5/10 [02:13<02:06, 25.32s/it]\u001b[A\n",
      " 50%|█████     | 5/10 [02:17<02:09, 25.94s/it]\u001b[A\n",
      " 50%|█████     | 5/10 [02:19<02:12, 26.56s/it]\u001b[A\n",
      " 60%|██████    | 6/10 [02:20<01:20, 20.03s/it]\u001b[A\n",
      " 60%|██████    | 6/10 [02:25<01:36, 24.23s/it]\u001b[A\n",
      " 50%|█████     | 5/10 [02:26<02:25, 29.08s/it]\n",
      " 60%|██████    | 6/10 [02:31<01:32, 23.01s/it]\u001b[A\n",
      " 60%|██████    | 6/10 [02:39<01:38, 24.57s/it]\u001b[A\n",
      " 70%|███████   | 7/10 [02:47<01:01, 20.63s/it]\u001b[A\n",
      " 70%|███████   | 7/10 [02:52<01:14, 24.71s/it]\u001b[A\n",
      " 70%|███████   | 7/10 [02:54<01:00, 20.19s/it]\n",
      " 60%|██████    | 6/10 [02:55<01:53, 28.37s/it]\u001b[A\n",
      " 70%|███████   | 7/10 [02:56<01:07, 22.60s/it]\u001b[A\n",
      " 80%|████████  | 8/10 [03:06<00:40, 20.43s/it]\u001b[A\n",
      " 80%|████████  | 8/10 [03:08<00:43, 21.54s/it]\u001b[A\n",
      " 90%|█████████ | 9/10 [03:17<00:15, 15.51s/it]\u001b[A\n",
      " 70%|███████   | 7/10 [03:17<01:18, 26.21s/it]\u001b[A\n",
      " 80%|████████  | 8/10 [03:22<00:45, 22.83s/it]\u001b[A\n",
      "100%|██████████| 10/10 [03:25<00:00, 20.51s/it]\u001b[A\n",
      " 80%|████████  | 8/10 [03:25<00:42, 21.50s/it]\n",
      "100%|██████████| 10/10 [03:28<00:00, 20.80s/it][A\n",
      "[Parallel(n_jobs=-1)]: Done   2 out of   5 | elapsed:  3.5min remaining:  5.2min\n",
      "\n",
      " 90%|█████████ | 9/10 [03:31<00:21, 21.72s/it]\u001b[A\n",
      " 90%|█████████ | 9/10 [03:39<00:20, 20.88s/it]\u001b[A\n",
      " 90%|█████████ | 9/10 [03:43<00:22, 22.66s/it]\u001b[A\n",
      " 90%|█████████ | 9/10 [03:44<00:19, 19.13s/it]\u001b[A\n",
      "100%|██████████| 10/10 [03:46<00:00, 22.66s/it]\u001b[A\n",
      "100%|██████████| 10/10 [03:49<00:00, 22.96s/it]\n",
      "100%|██████████| 10/10 [03:50<00:00, 23.09s/it]\n",
      "\n",
      "100%|██████████| 10/10 [03:51<00:00, 23.15s/it]\u001b[A\n",
      "100%|██████████| 10/10 [03:53<00:00, 23.30s/it]\n",
      "\n",
      "100%|██████████| 10/10 [03:54<00:00, 23.45s/it]\u001b[A\n",
      "[Parallel(n_jobs=-1)]: Done   5 out of   5 | elapsed:  3.9min finished\n"
     ]
    },
    {
     "name": "stdout",
     "output_type": "stream",
     "text": [
      "The mean score for subject  4 is 0.9379310344827585\n",
      "The var score for subject  4 is 0.0005469678953626638\n"
     ]
    }
   ],
   "source": [
    "accuracy_list_DTW_MDM = np.array([])\n",
    "for i in dataset.subject_list:\n",
    "    print(\"=========================================\")\n",
    "    print(\"Loading the data...\")\n",
    "    print(\"Training for subject \" + str(i))\n",
    "    X, labels, meta = paradigm.get_data(dataset=dataset, subjects=[i])\n",
    "    (nb_traj, nb_sensors, length_EEG) = X.shape\n",
    "    # Data loaded\n",
    "    \n",
    "    manifold = SymmetricPositiveDefinite(n=nb_sensors)\n",
    "    \n",
    "    # Creating the 5 splits \n",
    "    cv = KFold(n_splits=5, shuffle=True, random_state = 42)\n",
    "    DTW_MDM_ = DTW_MDM_Temp(manifold, nb_it, eps, size_mean_traj, size_window,cov_estimator='lwf')\n",
    "    print(\"Starting cross validation\")\n",
    "    \n",
    "    # Computing the scores on the 5 splits\n",
    "    scores = cross_val_score(DTW_MDM_, X, labels, cv=cv, n_jobs=-1, verbose=1)\n",
    "\n",
    "    print(\"The mean score for subject  \" + str(i) + \" is \" + str(np.mean(scores)))\n",
    "    print(\"The var score for subject  \" + str(i) + \" is \" + str(np.var(scores)))\n",
    "    #print(\"It took \" + str(time_train) + \" sec to train\")\n",
    "    accuracy_list_DTW_MDM = np.concatenate((accuracy_list_DTW_MDM,scores))"
   ]
  },
  {
   "cell_type": "code",
   "execution_count": 7,
   "id": "232ddbde-16d3-4481-8798-b935ae4eae9a",
   "metadata": {},
   "outputs": [
    {
     "data": {
      "image/png": "[encoded data removed]",
      "text/plain": [
       "<Figure size 640x480 with 1 Axes>"
      ]
     },
     "metadata": {},
     "output_type": "display_data"
    }
   ],
   "source": [
    "plt.figure()\n",
    "plt.boxplot(accuracy_list_DTW_MDM.reshape((4,5)).T)\n",
    "plt.xlabel(\"Subject number\")\n",
    "plt.ylabel(\"Accuracy\")\n",
    "plt.title(\"Box plot for the results of DTW-MDM on the Zhou2016 dataset \\n Mean accuracy intrasubject : \" + str(np.mean(accuracy_list_DTW_MDM)))\n",
    "plt.show()"
   ]
  },
  {
   "cell_type": "markdown",
   "id": "02cccbe9-bd9f-4e17-a654-a932c830828c",
   "metadata": {},
   "source": [
    "We can now compare the results with the state of the art FgMDM [3]. "
   ]
  },
  {
   "cell_type": "code",
   "execution_count": 8,
   "id": "2dda79d8-9521-4a2b-abcb-f9ce599981cf",
   "metadata": {},
   "outputs": [
    {
     "name": "stdout",
     "output_type": "stream",
     "text": [
      "=========================================\n",
      "Loading the data...\n",
      "Training for subject 1\n",
      "Reading 0 ... 305029  =      0.000 ...  1220.116 secs...\n",
      "Reading 0 ... 430479  =      0.000 ...  1721.916 secs...\n",
      "Reading 0 ... 252599  =      0.000 ...  1010.396 secs...\n",
      "Reading 0 ... 296649  =      0.000 ...  1186.596 secs...\n",
      "Reading 0 ... 233249  =      0.000 ...   932.996 secs...\n",
      "Reading 0 ... 226219  =      0.000 ...   904.876 secs...\n",
      "Data loaded !\n",
      "The mean score for subject  1 is 0.8150297619047618\n",
      "=========================================\n",
      "Loading the data...\n",
      "Training for subject 2\n",
      "Reading 0 ... 227539  =      0.000 ...   910.156 secs...\n",
      "Reading 0 ... 216079  =      0.000 ...   864.316 secs...\n",
      "Reading 0 ... 213939  =      0.000 ...   855.756 secs...\n",
      "Reading 0 ... 175269  =      0.000 ...   701.076 secs...\n",
      "Reading 0 ... 213209  =      0.000 ...   852.836 secs...\n",
      "Reading 0 ... 217659  =      0.000 ...   870.636 secs...\n",
      "Data loaded !\n",
      "The mean score for subject  2 is 0.7620689655172413\n",
      "=========================================\n",
      "Loading the data...\n",
      "Training for subject 3\n",
      "Reading 0 ... 219849  =      0.000 ...   879.396 secs...\n",
      "Reading 0 ... 216709  =      0.000 ...   866.836 secs...\n",
      "Reading 0 ... 226609  =      0.000 ...   906.436 secs...\n",
      "Reading 0 ... 266929  =      0.000 ...  1067.716 secs...\n",
      "Reading 0 ... 227989  =      0.000 ...   911.956 secs...\n",
      "Reading 0 ... 222459  =      0.000 ...   889.836 secs...\n",
      "Data loaded !\n",
      "The mean score for subject  3 is 0.9366666666666668\n",
      "=========================================\n",
      "Loading the data...\n",
      "Training for subject 4\n",
      "Reading 0 ... 181339  =      0.000 ...   725.356 secs...\n",
      "Reading 0 ... 217139  =      0.000 ...   868.556 secs...\n",
      "Reading 0 ... 215399  =      0.000 ...   861.596 secs...\n",
      "Reading 0 ... 212209  =      0.000 ...   848.836 secs...\n",
      "Reading 0 ... 209799  =      0.000 ...   839.196 secs...\n",
      "Reading 0 ... 217109  =      0.000 ...   868.436 secs...\n",
      "Data loaded !\n",
      "The mean score for subject  4 is 0.9448275862068964\n"
     ]
    }
   ],
   "source": [
    "accuracy_list_FgMDM = np.array([])\n",
    "for i in dataset.subject_list:\n",
    "    print(\"=========================================\")\n",
    "    print(\"Loading the data...\")\n",
    "    print(\"Training for subject \" + str(i))\n",
    "    X, labels, meta = paradigm.get_data(dataset=dataset, subjects=[i])\n",
    "    print(\"Data loaded !\")\n",
    "    \n",
    "    cov_data_train = Covariances(estimator = 'lwf').transform(X)\n",
    "\n",
    "    cv = KFold(n_splits=5, shuffle=True, random_state=42)\n",
    "    mdm = FgMDM()\n",
    "    scores = cross_val_score(mdm, cov_data_train, labels, cv=cv, n_jobs=-1)\n",
    "    print(\"The mean score for subject  \" + str(i) + \" is \" + str(np.mean(scores)))\n",
    "    accuracy_list_FgMDM = np.concatenate((accuracy_list_FgMDM,scores))"
   ]
  },
  {
   "cell_type": "code",
   "execution_count": 9,
   "id": "77f25cb8-ecac-4396-a769-6cb3ad3ca907",
   "metadata": {},
   "outputs": [
    {
     "data": {
      "image/png": "[encoded data removed]",
      "text/plain": [
       "<Figure size 640x480 with 1 Axes>"
      ]
     },
     "metadata": {},
     "output_type": "display_data"
    }
   ],
   "source": [
    "plt.figure()\n",
    "plt.boxplot(accuracy_list_FgMDM.reshape((4,5)).T)\n",
    "plt.xlabel(\"Subject number\")\n",
    "plt.ylabel(\"Accuracy\")\n",
    "plt.title(\"Box plot for the results of FgMDM on the Zhou2016 dataset \\n Mean accuracy intrasubject : \" + str(np.mean(accuracy_list_FgMDM)))\n",
    "plt.show()"
   ]
  },
  {
   "cell_type": "markdown",
   "id": "62c0dfd8-d1d0-4ab8-8a14-d801425df56d",
   "metadata": {},
   "source": [
    "### References"
   ]
  },
  {
   "cell_type": "markdown",
   "id": "5596792a-8ed5-4737-aaf4-e8e57576beb0",
   "metadata": {},
   "source": [
    "[1] B. Zhou, X. Wu, Z. Lv, L. Zhang, and X. Guo, “A fully automated trial selection method for optimization of motor imagery based brain-computer interface,” _PLOS ONE_, vol. 11, no. 9, pp. 1–20, 09 2016.\n",
    "\n",
    "[2] V. Jayaram and A. Barachant, “Moabb: trustworthy algorithm benchmarking for bcis,” _J Neural Eng_, vol. 15, no. 6, pp. 066011, 2018.\n",
    "\n",
    "[3] A. Barachant, S. Bonnet, M. Congedo, and C. Jutten, “Riemannian geometry applied to BCI classification,” in _LVA/ICA 2010_. Sept. 2010, vol. 6365, p. 629, Springer."
   ]
  }
 ],
 "metadata": {
  "kernelspec": {
   "display_name": "Python (myenv)",
   "language": "python",
   "name": "myenv"
  },
  "language_info": {
   "codemirror_mode": {
    "name": "ipython",
    "version": 3
   },
   "file_extension": ".py",
   "mimetype": "text/x-python",
   "name": "python",
   "nbconvert_exporter": "python",
   "pygments_lexer": "ipython3",
   "version": "3.11.3"
  }
 },
 "nbformat": 4,
 "nbformat_minor": 5
}
