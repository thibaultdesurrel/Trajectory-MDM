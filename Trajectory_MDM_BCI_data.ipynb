{
 "cells": [
  {
   "cell_type": "markdown",
   "id": "15a6ed76-4730-4811-b9aa-e42f7831574c",
   "metadata": {},
   "source": [
    "# Trajectory MDM on BCI data"
   ]
  },
  {
   "cell_type": "markdown",
   "id": "3cf27ad7-16c0-4313-ad0f-0a114259a1a3",
   "metadata": {},
   "source": [
    "In this notebook, we show how to reproduce the results of the paper _AVERAGING TRAJECTORIES ON THE MANIFOLD OF COVARIANCE MATRICES_ on real BCI data. We will show how to use the _PT-MDM_ and _DTW-MDM_ code that is provided in this repository and compare the results to the FgMDM [3] on one dataset."
   ]
  },
  {
   "cell_type": "code",
   "execution_count": 1,
   "id": "e7969141-aa2b-48b8-a986-85856a59f787",
   "metadata": {},
   "outputs": [],
   "source": [
    "import numpy as np\n",
    "from pymanopt.manifolds import SymmetricPositiveDefinite\n",
    "\n",
    "from source.trajectory_fgmdm_for_EEG import DTW_MDM, PT_MDM\n",
    "\n",
    "import moabb\n",
    "from moabb.datasets import Zhou2016\n",
    "from moabb.paradigms import FilterBankMotorImagery\n",
    "from pyriemann.classification import FgMDM\n",
    "from pyriemann.estimation import Covariances\n",
    "\n",
    "from sklearn.model_selection import cross_val_score, KFold\n",
    "\n",
    "import matplotlib.pyplot as plt\n",
    "import warnings\n",
    "warnings.filterwarnings('ignore')"
   ]
  },
  {
   "cell_type": "markdown",
   "id": "a61e1636-e102-4501-ac27-df1dacdf4e15",
   "metadata": {},
   "source": [
    "We start by loading the dataset that we want to work with, in this example we chose the dataset `Zhou2016` [1] from the MOABB library [2] because of its small size. We start by some simple preprocess steps such as applying a standard band-pass filter with range $[7; 35]$ Hz."
   ]
  },
  {
   "cell_type": "code",
   "execution_count": 2,
   "id": "0cf09aaf-467f-4e85-8c53-f34df091094d",
   "metadata": {},
   "outputs": [
    {
     "name": "stderr",
     "output_type": "stream",
     "text": [
      "Choosing from all possible events\n"
     ]
    }
   ],
   "source": [
    "dataset = Zhou2016()\n",
    "filters = [[7,35]]\n",
    "paradigm = FilterBankMotorImagery(filters = filters)\n",
    "f_ech = 250 #Hz"
   ]
  },
  {
   "cell_type": "markdown",
   "id": "7366f904-e526-4b36-9c2d-c50746c2a545",
   "metadata": {},
   "source": [
    "### DTW-MDM"
   ]
  },
  {
   "cell_type": "markdown",
   "id": "98e98b00-8bf2-488d-8a43-7c6a746a90ff",
   "metadata": {},
   "source": [
    "We choose the hyperparameters for our DTW-MDM classifier as described in the paper. For this dataset we choose a number of iterations `nb_it = 10`, a threshold for the convergence `eps = 10e-5`, the size of the sub-windows of the EEG to be $1$ sec so `size_window = 1*f_ech` and the number of points on the mean trajectory `size_mean_traj = 6`. "
   ]
  },
  {
   "cell_type": "code",
   "execution_count": 3,
   "id": "46b84932-12ca-45c9-9361-2f638525ead7",
   "metadata": {},
   "outputs": [],
   "source": [
    "nb_it = 10\n",
    "eps = 1e-5\n",
    "size_window = int(1*f_ech)\n",
    "size_mean_traj = 6"
   ]
  },
  {
   "cell_type": "markdown",
   "id": "76b54550-5cbb-4e30-beee-db449b563bcc",
   "metadata": {},
   "source": [
    "For each subject, we will train a classifer on 5 different splits of the data in order to have the mean accuracy over 5 folds. "
   ]
  },
  {
   "cell_type": "code",
   "execution_count": 4,
   "id": "dd450b78-08d1-4621-8878-59174d65a855",
   "metadata": {},
   "outputs": [
    {
     "name": "stdout",
     "output_type": "stream",
     "text": [
      "=========================================\n",
      "Loading the data...\n",
      "Training for subject 1\n",
      "Reading 0 ... 305029  =      0.000 ...  1220.116 secs...\n",
      "Reading 0 ... 430479  =      0.000 ...  1721.916 secs...\n",
      "Reading 0 ... 252599  =      0.000 ...  1010.396 secs...\n",
      "Reading 0 ... 296649  =      0.000 ...  1186.596 secs...\n",
      "Reading 0 ... 233249  =      0.000 ...   932.996 secs...\n",
      "Reading 0 ... 226219  =      0.000 ...   904.876 secs...\n",
      "Starting cross validation\n"
     ]
    },
    {
     "name": "stderr",
     "output_type": "stream",
     "text": [
      "[Parallel(n_jobs=-1)]: Using backend LokyBackend with 8 concurrent workers.\n",
      "  0%|          | 0/10 [00:00<?, ?it/s]\n",
      "  0%|          | 0/10 [00:00<?, ?it/s]\u001b[A\n",
      "  0%|          | 0/10 [00:00<?, ?it/s]\u001b[A\n",
      "  0%|          | 0/10 [00:00<?, ?it/s]\u001b[A\n",
      "  0%|          | 0/10 [00:00<?, ?it/s]\u001b[A\n",
      "  0%|          | 0/10 [00:00<?, ?it/s]\u001b[A\n",
      " 10%|█         | 1/10 [00:23<03:30, 23.40s/it]\u001b[A\n",
      " 10%|█         | 1/10 [00:27<04:04, 27.16s/it]\u001b[A\n",
      " 10%|█         | 1/10 [00:27<04:10, 27.79s/it]\u001b[A\n",
      " 10%|█         | 1/10 [00:27<04:11, 27.91s/it]\u001b[A\n",
      " 10%|█         | 1/10 [00:28<04:19, 28.78s/it]\u001b[A\n",
      " 20%|██        | 2/10 [00:47<03:03, 22.94s/it]\u001b[A\n",
      " 20%|██        | 2/10 [00:47<03:08, 23.51s/it]\u001b[A\n",
      " 20%|██        | 2/10 [00:49<03:12, 24.06s/it]\u001b[A\n",
      " 20%|██        | 2/10 [00:51<03:22, 25.30s/it]\u001b[A\n",
      " 20%|██        | 2/10 [00:52<03:24, 25.62s/it]\u001b[A\n",
      " 30%|███       | 3/10 [01:08<02:37, 22.49s/it]\u001b[A\n",
      " 30%|███       | 3/10 [01:10<02:42, 23.22s/it]\u001b[A\n",
      " 30%|███       | 3/10 [01:11<02:45, 23.60s/it]\u001b[A\n",
      " 30%|███       | 3/10 [01:12<02:44, 23.52s/it]\u001b[A\n",
      " 40%|████      | 4/10 [01:29<02:10, 21.71s/it]\u001b[A\n",
      " 40%|████      | 4/10 [01:30<02:11, 21.85s/it]\u001b[A\n",
      " 40%|████      | 4/10 [01:33<02:15, 22.60s/it]\u001b[A\n",
      " 40%|████      | 4/10 [01:33<02:13, 22.33s/it]\u001b[A\n",
      " 40%|████      | 4/10 [01:34<02:17, 22.84s/it]\u001b[A\n",
      " 50%|█████     | 5/10 [01:49<01:46, 21.31s/it]\u001b[A\n",
      " 50%|█████     | 5/10 [01:52<01:46, 21.31s/it]\u001b[A\n",
      " 50%|█████     | 5/10 [01:53<01:48, 21.74s/it]\u001b[A\n",
      " 50%|█████     | 5/10 [01:55<01:57, 23.53s/it]\u001b[A\n",
      " 50%|█████     | 5/10 [01:56<01:55, 23.03s/it]\u001b[A\n",
      " 60%|██████    | 6/10 [02:05<01:18, 19.57s/it]\u001b[A\n",
      " 60%|██████    | 6/10 [02:07<01:20, 20.01s/it]\u001b[A\n",
      " 60%|██████    | 6/10 [02:13<01:28, 22.03s/it]\u001b[A\n",
      " 60%|██████    | 6/10 [02:14<01:28, 22.12s/it]\u001b[A\n",
      " 60%|██████    | 6/10 [02:14<01:25, 21.49s/it]\u001b[A\n",
      " 70%|███████   | 7/10 [02:19<00:52, 17.54s/it]\u001b[A\n",
      " 70%|███████   | 7/10 [02:32<01:02, 20.82s/it]\u001b[A\n",
      " 80%|████████  | 8/10 [02:32<00:30, 15.47s/it]\u001b[A\n",
      " 80%|████████  | 8/10 [02:33<00:38, 19.15s/it]\u001b[A\n",
      "\n",
      " 80%|████████  | 8/10 [02:36<00:39, 19.58s/it]\u001b[A\n",
      "\n",
      " 70%|███████   | 7/10 [02:38<01:01, 20.64s/it]\u001b[A\n",
      " 80%|████████  | 8/10 [02:44<00:31, 15.82s/it]\u001b[A\n",
      " 90%|█████████ | 9/10 [02:51<00:19, 19.07s/it]\u001b[A\n",
      "100%|██████████| 10/10 [02:52<00:00, 17.29s/it]\n",
      "\n",
      " 90%|█████████ | 9/10 [02:54<00:14, 14.78s/it]\u001b[A\n",
      " 80%|████████  | 8/10 [02:54<00:41, 20.88s/it]\u001b[A\n",
      " 80%|████████  | 8/10 [02:54<00:41, 20.97s/it]\u001b[A\n",
      " 80%|████████  | 8/10 [02:58<00:44, 22.31s/it]\u001b[A\n",
      " 90%|█████████ | 9/10 [02:59<00:15, 15.93s/it]\n",
      "100%|██████████| 10/10 [03:00<00:00, 18.03s/it]\u001b[A\n",
      "[Parallel(n_jobs=-1)]: Done   2 out of   5 | elapsed:  3.0min remaining:  4.5min\n",
      "100%|██████████| 10/10 [03:03<00:00, 18.38s/it]\n",
      "\n",
      " 90%|█████████ | 9/10 [03:04<00:16, 16.43s/it]\u001b[A\n",
      " 90%|█████████ | 9/10 [03:08<00:18, 18.52s/it]\u001b[A\n",
      "100%|██████████| 10/10 [03:11<00:00, 19.20s/it]\u001b[A\n",
      "100%|██████████| 10/10 [03:15<00:00, 19.53s/it]\n",
      "\n",
      "100%|██████████| 10/10 [03:20<00:00, 20.03s/it]\u001b[A\n",
      "[Parallel(n_jobs=-1)]: Done   5 out of   5 | elapsed:  3.4min finished\n"
     ]
    },
    {
     "name": "stdout",
     "output_type": "stream",
     "text": [
      "The mean score for subject  1 is 0.883829365079365\n",
      "The var score for subject  1 is 0.0022696060484378947\n",
      "=========================================\n",
      "Loading the data...\n",
      "Training for subject 2\n",
      "Reading 0 ... 227539  =      0.000 ...   910.156 secs...\n",
      "Reading 0 ... 216079  =      0.000 ...   864.316 secs...\n",
      "Reading 0 ... 213939  =      0.000 ...   855.756 secs...\n",
      "Reading 0 ... 175269  =      0.000 ...   701.076 secs...\n",
      "Reading 0 ... 213209  =      0.000 ...   852.836 secs...\n",
      "Reading 0 ... 217659  =      0.000 ...   870.636 secs...\n",
      "Starting cross validation\n"
     ]
    },
    {
     "name": "stderr",
     "output_type": "stream",
     "text": [
      "[Parallel(n_jobs=-1)]: Using backend LokyBackend with 8 concurrent workers.\n",
      "  0%|          | 0/10 [00:00<?, ?it/s]\n",
      "  0%|          | 0/10 [00:00<?, ?it/s]\n",
      "  0%|          | 0/10 [00:00<?, ?it/s]\u001b[A\n",
      "  0%|          | 0/10 [00:00<?, ?it/s]\u001b[A\n",
      "  0%|          | 0/10 [00:00<?, ?it/s]\u001b[A\n",
      "  0%|          | 0/10 [00:00<?, ?it/s]\u001b[A\n",
      " 10%|█         | 1/10 [00:22<03:23, 22.63s/it]\u001b[A\n",
      " 10%|█         | 1/10 [00:25<03:46, 25.18s/it]\u001b[A\n",
      " 10%|█         | 1/10 [00:25<03:46, 25.13s/it]\u001b[A\n",
      " 10%|█         | 1/10 [00:26<03:56, 26.26s/it]\u001b[A\n",
      " 10%|█         | 1/10 [00:27<04:07, 27.47s/it]\u001b[A\n",
      " 20%|██        | 2/10 [00:39<02:37, 19.70s/it]\u001b[A\n",
      " 20%|██        | 2/10 [00:44<02:50, 21.30s/it]\u001b[A\n",
      " 20%|██        | 2/10 [00:47<03:07, 23.44s/it]\u001b[A\n",
      " 20%|██        | 2/10 [00:48<03:10, 23.81s/it]\u001b[A\n",
      " 20%|██        | 2/10 [00:49<03:15, 24.41s/it]\u001b[A\n",
      " 30%|███       | 3/10 [01:02<02:19, 19.93s/it]\u001b[A\n",
      " 30%|███       | 3/10 [01:03<02:25, 20.77s/it]\u001b[A\n",
      " 30%|███       | 3/10 [01:07<02:34, 22.02s/it]\u001b[A\n",
      " 30%|███       | 3/10 [01:09<02:39, 22.72s/it]\u001b[A\n",
      " 30%|███       | 3/10 [01:13<02:50, 24.39s/it]\u001b[A\n",
      " 40%|████      | 4/10 [01:23<01:59, 19.91s/it]\u001b[A\n",
      " 40%|████      | 4/10 [01:24<02:00, 20.10s/it]\u001b[A\n",
      " 40%|████      | 4/10 [01:31<02:16, 22.74s/it]\u001b[A\n",
      " 40%|████      | 4/10 [01:32<02:16, 22.74s/it]\u001b[A\n",
      " 50%|█████     | 5/10 [01:40<01:35, 19.13s/it]\u001b[A\n",
      " 50%|█████     | 5/10 [01:41<01:37, 19.51s/it]\u001b[A\n",
      " 50%|█████     | 5/10 [01:44<01:39, 19.94s/it]\u001b[A\n",
      " 50%|█████     | 5/10 [01:48<01:46, 21.20s/it]\u001b[A\n",
      " 60%|██████    | 6/10 [01:52<01:05, 16.43s/it]\u001b[A\n",
      " 60%|██████    | 6/10 [01:56<01:11, 17.77s/it]\u001b[A\n",
      " 60%|██████    | 6/10 [02:03<01:21, 20.36s/it]\u001b[A\n",
      " 60%|██████    | 6/10 [02:04<01:23, 20.78s/it]\u001b[A\n",
      " 60%|██████    | 6/10 [02:08<01:22, 20.65s/it]\u001b[A\n",
      " 60%|██████    | 6/10 [02:09<01:26, 21.55s/it]\u001b[A\n",
      " 80%|████████  | 8/10 [02:14<00:26, 13.40s/it]\u001b[A\n",
      " 80%|████████  | 8/10 [02:18<00:34, 17.37s/it]\u001b[A\n",
      " 60%|██████    | 6/10 [02:20<01:35, 23.96s/it]\n",
      " 70%|███████   | 7/10 [02:23<00:56, 18.94s/it]\u001b[A\n",
      " 80%|████████  | 8/10 [02:24<00:32, 16.23s/it]\u001b[A\n",
      " 80%|████████  | 8/10 [02:30<00:30, 15.03s/it]\u001b[A\n",
      " 80%|████████  | 8/10 [02:35<00:38, 19.43s/it]\u001b[A\n",
      "\n",
      "100%|██████████| 10/10 [02:40<00:00, 16.08s/it][A\n",
      " 90%|█████████ | 9/10 [02:50<00:18, 18.95s/it]\n",
      "\n",
      " 80%|████████  | 8/10 [02:51<00:44, 22.26s/it]\u001b[A\n",
      "100%|██████████| 10/10 [02:59<00:00, 17.95s/it][A\n",
      "[Parallel(n_jobs=-1)]: Done   2 out of   5 | elapsed:  3.0min remaining:  4.5min\n",
      "\n",
      " 80%|████████  | 8/10 [03:02<00:41, 20.57s/it]\u001b[A\n",
      "100%|██████████| 10/10 [03:07<00:00, 18.78s/it][A\n",
      "\n",
      " 90%|█████████ | 9/10 [03:11<00:21, 21.64s/it]\u001b[A\n",
      " 90%|█████████ | 9/10 [03:12<00:17, 17.39s/it]\u001b[A\n",
      " 90%|█████████ | 9/10 [03:13<00:19, 19.43s/it]\u001b[A\n",
      "100%|██████████| 10/10 [03:16<00:00, 19.66s/it]\u001b[A\n",
      "\n",
      "100%|██████████| 10/10 [03:20<00:00, 20.04s/it]\u001b[A\n",
      " 90%|█████████ | 9/10 [03:22<00:20, 20.92s/it]\n",
      "100%|██████████| 10/10 [03:21<00:00, 20.16s/it]\u001b[A\n",
      "100%|██████████| 10/10 [03:29<00:00, 20.95s/it]\n",
      "[Parallel(n_jobs=-1)]: Done   5 out of   5 | elapsed:  3.5min finished\n"
     ]
    },
    {
     "name": "stdout",
     "output_type": "stream",
     "text": [
      "The mean score for subject  2 is 0.7620689655172412\n",
      "The var score for subject  2 is 0.0019500594530321026\n",
      "=========================================\n",
      "Loading the data...\n",
      "Training for subject 3\n",
      "Reading 0 ... 219849  =      0.000 ...   879.396 secs...\n",
      "Reading 0 ... 216709  =      0.000 ...   866.836 secs...\n",
      "Reading 0 ... 226609  =      0.000 ...   906.436 secs...\n",
      "Reading 0 ... 266929  =      0.000 ...  1067.716 secs...\n",
      "Reading 0 ... 227989  =      0.000 ...   911.956 secs...\n",
      "Reading 0 ... 222459  =      0.000 ...   889.836 secs...\n",
      "Starting cross validation\n"
     ]
    },
    {
     "name": "stderr",
     "output_type": "stream",
     "text": [
      "[Parallel(n_jobs=-1)]: Using backend LokyBackend with 8 concurrent workers.\n",
      "  0%|          | 0/10 [00:00<?, ?it/s]\n",
      "  0%|          | 0/10 [00:00<?, ?it/s]\u001b[A\n",
      "  0%|          | 0/10 [00:00<?, ?it/s]\u001b[A\n",
      "  0%|          | 0/10 [00:00<?, ?it/s]\u001b[A\n",
      "  0%|          | 0/10 [00:00<?, ?it/s]\u001b[A\n",
      " 10%|█         | 1/10 [00:28<04:17, 28.66s/it]\n",
      " 10%|█         | 1/10 [00:31<04:46, 31.78s/it]\u001b[A\n",
      " 10%|█         | 1/10 [00:32<04:52, 32.55s/it]\u001b[A\n",
      " 10%|█         | 1/10 [00:33<04:57, 33.04s/it]\u001b[A\n",
      " 10%|█         | 1/10 [00:33<05:01, 33.55s/it]\u001b[A\n",
      " 20%|██        | 2/10 [00:52<03:26, 25.77s/it]\u001b[A\n",
      " 20%|██        | 2/10 [00:53<03:27, 25.97s/it]\u001b[A\n",
      " 20%|██        | 2/10 [00:57<03:43, 27.94s/it]\u001b[A\n",
      " 20%|██        | 2/10 [00:57<03:44, 28.12s/it]\u001b[A\n",
      " 20%|██        | 2/10 [01:02<04:03, 30.45s/it]\u001b[A\n",
      " 30%|███       | 3/10 [01:17<02:57, 25.33s/it]\u001b[A\n",
      " 30%|███       | 3/10 [01:20<03:04, 26.33s/it]\u001b[A\n",
      " 30%|███       | 3/10 [01:27<03:15, 27.90s/it]\u001b[A\n",
      " 30%|███       | 3/10 [01:29<03:25, 29.31s/it]\u001b[A\n",
      " 30%|███       | 3/10 [01:32<03:24, 29.18s/it]\u001b[A\n",
      " 40%|████      | 4/10 [01:40<02:27, 24.64s/it]\u001b[A\n",
      " 40%|████      | 4/10 [01:44<02:32, 25.47s/it]\u001b[A\n",
      " 40%|████      | 4/10 [01:53<02:45, 27.59s/it]\u001b[A\n",
      " 40%|████      | 4/10 [01:54<02:49, 28.17s/it]\u001b[A\n",
      " 40%|████      | 4/10 [02:01<02:54, 29.09s/it]\u001b[A\n",
      " 50%|█████     | 5/10 [02:06<02:04, 24.98s/it]\u001b[A\n",
      " 50%|█████     | 5/10 [02:10<02:08, 25.69s/it]\u001b[A\n",
      " 50%|█████     | 5/10 [02:18<02:11, 26.31s/it]\u001b[A\n",
      " 50%|█████     | 5/10 [02:22<02:10, 26.12s/it]\u001b[A\n",
      " 60%|██████    | 6/10 [02:27<01:35, 23.83s/it]\u001b[A\n",
      " 60%|██████    | 6/10 [02:31<01:34, 23.69s/it]\u001b[A\n",
      " 50%|█████     | 5/10 [02:32<02:28, 29.80s/it]\u001b[A\n",
      " 60%|██████    | 6/10 [02:35<01:40, 25.23s/it]\u001b[A\n",
      " 70%|███████   | 7/10 [02:49<01:12, 24.25s/it]\u001b[A\n",
      " 60%|██████    | 6/10 [02:50<01:49, 27.33s/it]\n",
      " 70%|███████   | 7/10 [02:52<01:08, 22.80s/it]\u001b[A\n",
      " 60%|██████    | 6/10 [02:53<01:54, 28.61s/it]\u001b[A\n",
      " 70%|███████   | 7/10 [02:57<01:15, 25.30s/it]\u001b[A\n",
      "\n",
      " 70%|███████   | 7/10 [03:02<01:11, 23.92s/it]\u001b[A\n",
      " 70%|███████   | 7/10 [03:04<01:13, 24.58s/it]\u001b[A\n",
      " 70%|███████   | 7/10 [03:15<01:22, 27.46s/it]\u001b[A\n",
      " 80%|████████  | 8/10 [03:16<00:36, 18.19s/it]\u001b[A\n",
      " 90%|█████████ | 9/10 [03:20<00:15, 15.94s/it]\u001b[A\n",
      " 80%|████████  | 8/10 [03:20<00:47, 23.79s/it]\u001b[A\n",
      " 80%|████████  | 8/10 [03:23<00:45, 22.83s/it]\u001b[A\n",
      "100%|██████████| 10/10 [03:28<00:00, 20.88s/it][A\n",
      " 80%|████████  | 8/10 [03:30<00:47, 23.64s/it]\n",
      " 90%|█████████ | 9/10 [03:32<00:19, 19.92s/it]\u001b[A\n",
      "100%|██████████| 10/10 [03:33<00:00, 21.31s/it]\u001b[A\n",
      "[Parallel(n_jobs=-1)]: Done   2 out of   5 | elapsed:  3.6min remaining:  5.3min\n",
      " 80%|████████  | 8/10 [03:34<00:49, 24.77s/it]\n",
      " 80%|████████  | 8/10 [03:37<00:50, 25.08s/it]\u001b[A\n",
      " 80%|████████  | 8/10 [03:38<00:50, 25.13s/it]\u001b[A\n",
      "100%|██████████| 10/10 [03:39<00:00, 21.98s/it]\u001b[A\n",
      "\n",
      "100%|██████████| 10/10 [03:45<00:00, 22.59s/it]\u001b[A\n",
      "100%|██████████| 10/10 [03:54<00:00, 23.43s/it]\n",
      "\n",
      "100%|██████████| 10/10 [03:58<00:00, 23.85s/it][A\n",
      "100%|██████████| 10/10 [04:04<00:00, 24.49s/it]\n",
      "\n",
      "100%|██████████| 10/10 [04:06<00:00, 24.65s/it]\u001b[A\n",
      "[Parallel(n_jobs=-1)]: Done   5 out of   5 | elapsed:  4.1min finished\n"
     ]
    },
    {
     "name": "stdout",
     "output_type": "stream",
     "text": [
      "The mean score for subject  3 is 0.9466666666666667\n",
      "The var score for subject  3 is 0.0008222222222222225\n",
      "=========================================\n",
      "Loading the data...\n",
      "Training for subject 4\n",
      "Reading 0 ... 181339  =      0.000 ...   725.356 secs...\n",
      "Reading 0 ... 217139  =      0.000 ...   868.556 secs...\n",
      "Reading 0 ... 215399  =      0.000 ...   861.596 secs...\n",
      "Reading 0 ... 212209  =      0.000 ...   848.836 secs...\n",
      "Reading 0 ... 209799  =      0.000 ...   839.196 secs...\n",
      "Reading 0 ... 217109  =      0.000 ...   868.436 secs...\n",
      "Starting cross validation\n"
     ]
    },
    {
     "name": "stderr",
     "output_type": "stream",
     "text": [
      "[Parallel(n_jobs=-1)]: Using backend LokyBackend with 8 concurrent workers.\n",
      "  0%|          | 0/10 [00:00<?, ?it/s]\n",
      "  0%|          | 0/10 [00:00<?, ?it/s]\u001b[A\n",
      "\n",
      "  0%|          | 0/10 [00:00<?, ?it/s]\u001b[A\n",
      "  0%|          | 0/10 [00:00<?, ?it/s]\u001b[A\n",
      "  0%|          | 0/10 [00:00<?, ?it/s]\u001b[A\n",
      " 10%|█         | 1/10 [00:28<04:18, 28.75s/it]\u001b[A\n",
      " 10%|█         | 1/10 [00:29<04:21, 29.01s/it]\u001b[A\n",
      " 10%|█         | 1/10 [00:30<04:33, 30.44s/it]\u001b[A\n",
      " 10%|█         | 1/10 [00:31<04:40, 31.15s/it]\u001b[A\n",
      " 20%|██        | 2/10 [00:51<03:19, 24.95s/it]\u001b[A\n",
      " 20%|██        | 2/10 [00:51<03:26, 25.86s/it]\u001b[A\n",
      " 20%|██        | 2/10 [00:51<03:20, 25.11s/it]\u001b[A\n",
      " 20%|██        | 2/10 [00:55<03:36, 27.06s/it]\u001b[A\n",
      " 20%|██        | 2/10 [00:57<03:48, 28.55s/it]\u001b[A\n",
      " 20%|██        | 2/10 [01:00<04:05, 30.72s/it]\u001b[A\n",
      " 30%|███       | 3/10 [01:17<03:01, 25.92s/it]\u001b[A\n",
      " 30%|███       | 3/10 [01:18<03:03, 26.28s/it]\u001b[A\n",
      " 30%|███       | 3/10 [01:20<03:00, 25.76s/it]\u001b[A\n",
      " 30%|███       | 3/10 [01:23<03:11, 27.38s/it]\u001b[A\n",
      " 40%|████      | 4/10 [01:38<02:24, 24.05s/it]\u001b[A\n",
      " 40%|████      | 4/10 [01:40<02:29, 24.98s/it]\u001b[A\n",
      " 40%|████      | 4/10 [01:41<02:30, 25.00s/it]\u001b[A\n",
      " 40%|████      | 4/10 [01:42<02:31, 25.24s/it]\u001b[A\n",
      " 40%|████      | 4/10 [01:48<02:39, 26.60s/it]\u001b[A\n",
      " 40%|████      | 4/10 [01:55<02:50, 28.39s/it]\u001b[A\n",
      " 50%|█████     | 5/10 [02:02<02:00, 24.05s/it]\u001b[A\n",
      " 50%|█████     | 5/10 [02:07<02:04, 24.96s/it]\u001b[A\n",
      " 50%|█████     | 5/10 [02:10<02:05, 25.10s/it]\u001b[A\n",
      " 50%|█████     | 5/10 [02:19<02:13, 26.68s/it]\u001b[A\n",
      " 60%|██████    | 6/10 [02:20<01:25, 21.27s/it]\u001b[A\n",
      " 60%|██████    | 6/10 [02:25<01:25, 21.39s/it]\u001b[A\n",
      " 60%|██████    | 6/10 [02:32<01:44, 26.03s/it]\u001b[A\n",
      " 70%|███████   | 7/10 [02:35<00:57, 19.18s/it]\u001b[A\n",
      " 60%|██████    | 6/10 [02:35<01:40, 25.19s/it]\u001b[A\n",
      " 70%|███████   | 7/10 [02:44<01:01, 20.66s/it]\u001b[A\n",
      " 80%|████████  | 8/10 [02:52<00:33, 16.66s/it]\u001b[A\n",
      " 70%|███████   | 7/10 [02:53<01:12, 24.28s/it]\u001b[A\n",
      " 80%|████████  | 8/10 [02:56<00:44, 22.12s/it]\u001b[A\n",
      "\n",
      " 70%|███████   | 7/10 [03:01<01:18, 26.18s/it]\u001b[A\n",
      " 70%|███████   | 7/10 [03:05<01:19, 26.61s/it]\u001b[A\n",
      " 90%|█████████ | 9/10 [03:10<00:18, 18.32s/it]\u001b[A\n",
      " 80%|████████  | 8/10 [03:11<00:44, 22.28s/it]\u001b[A\n",
      " 70%|███████   | 7/10 [03:13<01:18, 26.33s/it]\u001b[A\n",
      " 80%|████████  | 8/10 [03:17<00:48, 24.33s/it]\u001b[A\n",
      " 80%|████████  | 8/10 [03:22<00:50, 25.33s/it]\u001b[A\n",
      "\n",
      " 80%|████████  | 8/10 [03:24<00:49, 24.54s/it]\u001b[A\n",
      "100%|██████████| 10/10 [03:24<00:00, 20.46s/it]\u001b[A\n",
      " 80%|████████  | 8/10 [03:25<00:49, 24.53s/it]\n",
      "100%|██████████| 10/10 [03:26<00:00, 20.65s/it]\u001b[A\n",
      "\n",
      " 80%|████████  | 8/10 [03:29<00:49, 24.93s/it]\u001b[A\n",
      " 90%|█████████ | 9/10 [03:34<00:22, 22.59s/it]\u001b[A\n",
      " 90%|█████████ | 9/10 [03:36<00:23, 23.01s/it]\u001b[A\n",
      "100%|██████████| 10/10 [03:38<00:00, 21.83s/it]\u001b[A\n",
      "[Parallel(n_jobs=-1)]: Done   2 out of   5 | elapsed:  3.6min remaining:  5.5min\n",
      "100%|██████████| 10/10 [03:41<00:00, 22.15s/it]\n",
      "\n",
      "100%|██████████| 10/10 [03:48<00:00, 22.86s/it][A\n",
      "100%|██████████| 10/10 [03:48<00:00, 22.80s/it]\n",
      "\n",
      "100%|██████████| 10/10 [03:50<00:00, 23.01s/it]\u001b[A\n",
      "\n",
      "100%|██████████| 10/10 [03:50<00:00, 23.10s/it]\u001b[A\n",
      "[Parallel(n_jobs=-1)]: Done   5 out of   5 | elapsed:  3.9min finished\n"
     ]
    },
    {
     "name": "stdout",
     "output_type": "stream",
     "text": [
      "The mean score for subject  4 is 0.9379310344827585\n",
      "The var score for subject  4 is 0.0009036860879904886\n"
     ]
    }
   ],
   "source": [
    "accuracy_list_DTW_MDM = np.array([])\n",
    "for i in dataset.subject_list:\n",
    "    print(\"=========================================\")\n",
    "    print(\"Loading the data...\")\n",
    "    print(\"Training for subject \" + str(i))\n",
    "    X, labels, meta = paradigm.get_data(dataset=dataset, subjects=[i])\n",
    "    (nb_traj, nb_sensors, length_EEG) = X.shape\n",
    "    # Data loaded\n",
    "    \n",
    "    manifold = SymmetricPositiveDefinite(n=nb_sensors)\n",
    "    \n",
    "    # Creating the 5 splits \n",
    "    cv = KFold(n_splits=5, shuffle=True, random_state = 42)\n",
    "    DTW_MDM_ = DTW_MDM(manifold, nb_it, eps, size_mean_traj, size_window,cov_estimator='lwf')\n",
    "    print(\"Starting cross validation\")\n",
    "    \n",
    "    # Computing the scores on the 5 splits\n",
    "    scores = cross_val_score(DTW_MDM_, X, labels, cv=cv, n_jobs=-1, verbose=1)\n",
    "\n",
    "    print(\"The mean score for subject  \" + str(i) + \" is \" + str(np.mean(scores)))\n",
    "    print(\"The var score for subject  \" + str(i) + \" is \" + str(np.var(scores)))\n",
    "    #print(\"It took \" + str(time_train) + \" sec to train\")\n",
    "    accuracy_list_DTW_MDM = np.concatenate((accuracy_list_DTW_MDM,scores))"
   ]
  },
  {
   "cell_type": "code",
   "execution_count": 5,
   "id": "232ddbde-16d3-4481-8798-b935ae4eae9a",
   "metadata": {},
   "outputs": [
    {
     "data": {
      "image/png": "[encoded data removed]",
      "text/plain": [
       "<Figure size 640x480 with 1 Axes>"
      ]
     },
     "metadata": {},
     "output_type": "display_data"
    }
   ],
   "source": [
    "plt.figure()\n",
    "plt.boxplot(accuracy_list_DTW_MDM.reshape((4,5)).T)\n",
    "plt.xlabel(\"Subject number\")\n",
    "plt.ylabel(\"Accuracy\")\n",
    "plt.title(\"Box plot for the results of DTW-MDM on the Zhou2016 dataset \\n Mean accuracy intrasubject : \" + str(np.mean(accuracy_list_DTW_MDM)))\n",
    "plt.show()"
   ]
  },
  {
   "cell_type": "markdown",
   "id": "7ae54b29-2de6-4397-9a05-1d85a8807ad9",
   "metadata": {},
   "source": [
    "### PT-MDM"
   ]
  },
  {
   "cell_type": "markdown",
   "id": "e82487e0-ec13-4bf2-a37d-fcea239f66bc",
   "metadata": {},
   "source": [
    "We can now do the same thing with the other method that we present in the paper : _PT-MDM_."
   ]
  },
  {
   "cell_type": "code",
   "execution_count": 6,
   "id": "2fcd59bc-1fa6-4ffd-a285-eccb654de29b",
   "metadata": {},
   "outputs": [
    {
     "name": "stdout",
     "output_type": "stream",
     "text": [
      "=========================================\n",
      "Loading the data...\n",
      "Training for subject 1\n",
      "Reading 0 ... 305029  =      0.000 ...  1220.116 secs...\n",
      "Reading 0 ... 430479  =      0.000 ...  1721.916 secs...\n",
      "Reading 0 ... 252599  =      0.000 ...  1010.396 secs...\n",
      "Reading 0 ... 296649  =      0.000 ...  1186.596 secs...\n",
      "Reading 0 ... 233249  =      0.000 ...   932.996 secs...\n",
      "Reading 0 ... 226219  =      0.000 ...   904.876 secs...\n",
      "Starting cross validation\n",
      "The mean score for subject  1 is 0.8838789682539682\n",
      "The var score for subject  1 is 0.0017600367693373646\n",
      "=========================================\n",
      "Loading the data...\n",
      "Training for subject 2\n",
      "Reading 0 ... 227539  =      0.000 ...   910.156 secs...\n",
      "Reading 0 ... 216079  =      0.000 ...   864.316 secs...\n",
      "Reading 0 ... 213939  =      0.000 ...   855.756 secs...\n",
      "Reading 0 ... 175269  =      0.000 ...   701.076 secs...\n",
      "Reading 0 ... 213209  =      0.000 ...   852.836 secs...\n",
      "Reading 0 ... 217659  =      0.000 ...   870.636 secs...\n",
      "Starting cross validation\n",
      "The mean score for subject  2 is 0.7827586206896552\n",
      "The var score for subject  2 is 0.001973840665873957\n",
      "=========================================\n",
      "Loading the data...\n",
      "Training for subject 3\n",
      "Reading 0 ... 219849  =      0.000 ...   879.396 secs...\n",
      "Reading 0 ... 216709  =      0.000 ...   866.836 secs...\n",
      "Reading 0 ... 226609  =      0.000 ...   906.436 secs...\n",
      "Reading 0 ... 266929  =      0.000 ...  1067.716 secs...\n",
      "Reading 0 ... 227989  =      0.000 ...   911.956 secs...\n",
      "Reading 0 ... 222459  =      0.000 ...   889.836 secs...\n",
      "Starting cross validation\n",
      "The mean score for subject  3 is 0.95\n",
      "The var score for subject  3 is 0.0006666666666666663\n",
      "=========================================\n",
      "Loading the data...\n",
      "Training for subject 4\n",
      "Reading 0 ... 181339  =      0.000 ...   725.356 secs...\n",
      "Reading 0 ... 217139  =      0.000 ...   868.556 secs...\n",
      "Reading 0 ... 215399  =      0.000 ...   861.596 secs...\n",
      "Reading 0 ... 212209  =      0.000 ...   848.836 secs...\n",
      "Reading 0 ... 209799  =      0.000 ...   839.196 secs...\n",
      "Reading 0 ... 217109  =      0.000 ...   868.436 secs...\n",
      "Starting cross validation\n",
      "The mean score for subject  4 is 0.9448275862068964\n",
      "The var score for subject  4 is 0.0006420927467300837\n"
     ]
    }
   ],
   "source": [
    "accuracy_list_PT_MDM = np.array([])\n",
    "for i in dataset.subject_list:\n",
    "    print(\"=========================================\")\n",
    "    print(\"Loading the data...\")\n",
    "    print(\"Training for subject \" + str(i))\n",
    "    X, labels, meta = paradigm.get_data(dataset=dataset, subjects=[i])\n",
    "    (nb_traj, nb_sensors, length_EEG) = X.shape\n",
    "    # Data loaded\n",
    "    \n",
    "    manifold = SymmetricPositiveDefinite(n=nb_sensors)\n",
    "    \n",
    "    # Creating the 5 splits \n",
    "    cv = KFold(n_splits=5, shuffle=True, random_state = 42)\n",
    "    PT_MDM_ = PT_MDM(manifold, size_window,cov_estimator='lwf')\n",
    "    print(\"Starting cross validation\")\n",
    "    \n",
    "    # Computing the scores on the 5 splits\n",
    "    scores = cross_val_score(PT_MDM_, X, labels, cv=cv, n_jobs=-1)\n",
    "\n",
    "    print(\"The mean score for subject  \" + str(i) + \" is \" + str(np.mean(scores)))\n",
    "    print(\"The var score for subject  \" + str(i) + \" is \" + str(np.var(scores)))\n",
    "    #print(\"It took \" + str(time_train) + \" sec to train\")\n",
    "    accuracy_list_PT_MDM = np.concatenate((accuracy_list_PT_MDM,scores))"
   ]
  },
  {
   "cell_type": "code",
   "execution_count": 7,
   "id": "ece96ffb-6584-44d4-b71e-1fc53979652f",
   "metadata": {},
   "outputs": [
    {
     "data": {
      "image/png": "[encoded data removed]",
      "text/plain": [
       "<Figure size 640x480 with 1 Axes>"
      ]
     },
     "metadata": {},
     "output_type": "display_data"
    }
   ],
   "source": [
    "plt.figure()\n",
    "plt.boxplot(accuracy_list_PT_MDM.reshape((4,5)).T)\n",
    "plt.xlabel(\"Subject number\")\n",
    "plt.ylabel(\"Accuracy\")\n",
    "plt.title(\"Box plot for the results of PT-MDM on the Zhou2016 dataset \\n Mean accuracy intrasubject : \" + str(np.mean(accuracy_list_PT_MDM)))\n",
    "plt.show()"
   ]
  },
  {
   "cell_type": "markdown",
   "id": "6b887102-b199-4799-b5f5-83d51b3f8ec8",
   "metadata": {},
   "source": [
    "### FgMDM"
   ]
  },
  {
   "cell_type": "markdown",
   "id": "02cccbe9-bd9f-4e17-a654-a932c830828c",
   "metadata": {},
   "source": [
    "We can now compare the results with the state of the art FgMDM [3]. "
   ]
  },
  {
   "cell_type": "code",
   "execution_count": 8,
   "id": "2dda79d8-9521-4a2b-abcb-f9ce599981cf",
   "metadata": {},
   "outputs": [
    {
     "name": "stdout",
     "output_type": "stream",
     "text": [
      "=========================================\n",
      "Loading the data...\n",
      "Training for subject 1\n",
      "Reading 0 ... 305029  =      0.000 ...  1220.116 secs...\n",
      "Reading 0 ... 430479  =      0.000 ...  1721.916 secs...\n",
      "Reading 0 ... 252599  =      0.000 ...  1010.396 secs...\n",
      "Reading 0 ... 296649  =      0.000 ...  1186.596 secs...\n",
      "Reading 0 ... 233249  =      0.000 ...   932.996 secs...\n",
      "Reading 0 ... 226219  =      0.000 ...   904.876 secs...\n",
      "Data loaded !\n",
      "The mean score for subject  1 is 0.8150297619047618\n",
      "=========================================\n",
      "Loading the data...\n",
      "Training for subject 2\n",
      "Reading 0 ... 227539  =      0.000 ...   910.156 secs...\n",
      "Reading 0 ... 216079  =      0.000 ...   864.316 secs...\n",
      "Reading 0 ... 213939  =      0.000 ...   855.756 secs...\n",
      "Reading 0 ... 175269  =      0.000 ...   701.076 secs...\n",
      "Reading 0 ... 213209  =      0.000 ...   852.836 secs...\n",
      "Reading 0 ... 217659  =      0.000 ...   870.636 secs...\n",
      "Data loaded !\n",
      "The mean score for subject  2 is 0.7620689655172413\n",
      "=========================================\n",
      "Loading the data...\n",
      "Training for subject 3\n",
      "Reading 0 ... 219849  =      0.000 ...   879.396 secs...\n",
      "Reading 0 ... 216709  =      0.000 ...   866.836 secs...\n",
      "Reading 0 ... 226609  =      0.000 ...   906.436 secs...\n",
      "Reading 0 ... 266929  =      0.000 ...  1067.716 secs...\n",
      "Reading 0 ... 227989  =      0.000 ...   911.956 secs...\n",
      "Reading 0 ... 222459  =      0.000 ...   889.836 secs...\n",
      "Data loaded !\n",
      "The mean score for subject  3 is 0.9366666666666668\n",
      "=========================================\n",
      "Loading the data...\n",
      "Training for subject 4\n",
      "Reading 0 ... 181339  =      0.000 ...   725.356 secs...\n",
      "Reading 0 ... 217139  =      0.000 ...   868.556 secs...\n",
      "Reading 0 ... 215399  =      0.000 ...   861.596 secs...\n",
      "Reading 0 ... 212209  =      0.000 ...   848.836 secs...\n",
      "Reading 0 ... 209799  =      0.000 ...   839.196 secs...\n",
      "Reading 0 ... 217109  =      0.000 ...   868.436 secs...\n",
      "Data loaded !\n",
      "The mean score for subject  4 is 0.9448275862068964\n"
     ]
    }
   ],
   "source": [
    "accuracy_list_FgMDM = np.array([])\n",
    "for i in dataset.subject_list:\n",
    "    print(\"=========================================\")\n",
    "    print(\"Loading the data...\")\n",
    "    print(\"Training for subject \" + str(i))\n",
    "    X, labels, meta = paradigm.get_data(dataset=dataset, subjects=[i])\n",
    "    print(\"Data loaded !\")\n",
    "    \n",
    "    cov_data_train = Covariances(estimator = 'lwf').transform(X)\n",
    "\n",
    "    cv = KFold(n_splits=5, shuffle=True, random_state=42)\n",
    "    mdm = FgMDM()\n",
    "    scores = cross_val_score(mdm, cov_data_train, labels, cv=cv, n_jobs=-1)\n",
    "    print(\"The mean score for subject  \" + str(i) + \" is \" + str(np.mean(scores)))\n",
    "    accuracy_list_FgMDM = np.concatenate((accuracy_list_FgMDM,scores))"
   ]
  },
  {
   "cell_type": "code",
   "execution_count": 9,
   "id": "77f25cb8-ecac-4396-a769-6cb3ad3ca907",
   "metadata": {},
   "outputs": [
    {
     "data": {
      "image/png": "[encoded data removed]",
      "text/plain": [
       "<Figure size 640x480 with 1 Axes>"
      ]
     },
     "metadata": {},
     "output_type": "display_data"
    }
   ],
   "source": [
    "plt.figure()\n",
    "plt.boxplot(accuracy_list_FgMDM.reshape((4,5)).T)\n",
    "plt.xlabel(\"Subject number\")\n",
    "plt.ylabel(\"Accuracy\")\n",
    "plt.title(\"Box plot for the results of FgMDM on the Zhou2016 dataset \\n Mean accuracy intrasubject : \" + str(np.mean(accuracy_list_FgMDM)))\n",
    "plt.show()"
   ]
  },
  {
   "cell_type": "markdown",
   "id": "62c0dfd8-d1d0-4ab8-8a14-d801425df56d",
   "metadata": {},
   "source": [
    "### References"
   ]
  },
  {
   "cell_type": "markdown",
   "id": "5596792a-8ed5-4737-aaf4-e8e57576beb0",
   "metadata": {},
   "source": [
    "[1] B. Zhou, X. Wu, Z. Lv, L. Zhang, and X. Guo, “A fully automated trial selection method for optimization of motor imagery based brain-computer interface,” _PLOS ONE_, vol. 11, no. 9, pp. 1–20, 09 2016.\n",
    "\n",
    "[2] V. Jayaram and A. Barachant, “Moabb: trustworthy algorithm benchmarking for bcis,” _J Neural Eng_, vol. 15, no. 6, pp. 066011, 2018.\n",
    "\n",
    "[3] A. Barachant, S. Bonnet, M. Congedo, and C. Jutten, “Riemannian geometry applied to BCI classification,” in _LVA/ICA 2010_. Sept. 2010, vol. 6365, p. 629, Springer."
   ]
  }
 ],
 "metadata": {
  "kernelspec": {
   "display_name": "Python (myenv)",
   "language": "python",
   "name": "myenv"
  },
  "language_info": {
   "codemirror_mode": {
    "name": "ipython",
    "version": 3
   },
   "file_extension": ".py",
   "mimetype": "text/x-python",
   "name": "python",
   "nbconvert_exporter": "python",
   "pygments_lexer": "ipython3",
   "version": "3.11.3"
  }
 },
 "nbformat": 4,
 "nbformat_minor": 5
}
