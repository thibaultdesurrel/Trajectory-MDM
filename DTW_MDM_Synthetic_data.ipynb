{
 "cells": [
  {
   "cell_type": "markdown",
   "id": "3c7f3bf3-bc7c-4486-acd4-b9530a8e97e8",
   "metadata": {},
   "source": [
    "# DTW-MDM on synthetic data"
   ]
  },
  {
   "cell_type": "markdown",
   "id": "f69b30e3-2706-4059-accf-7a7775c821c5",
   "metadata": {},
   "source": [
    "In this notebook, we show how to reproduce the results of the paper _AVERAGING TRAJECTORIES ON MANIFOLD OF COVARIANCE MATRICES_ on the synthetic. We will provide the code we used to generate the datasets as well as an example of comparaison of the two algorithms proposed in the paper : DTW-MDM, PT-MDM. We will also compare them to the MDM introduced in [1]. "
   ]
  },
  {
   "cell_type": "code",
   "execution_count": 1,
   "id": "c690b26f-5de0-4cc2-9291-8167abfa2808",
   "metadata": {},
   "outputs": [],
   "source": [
    "import numpy as np\n",
    "import matplotlib.pyplot as plt\n",
    "import pymanopt\n",
    "import pymanopt.manifolds\n",
    "from pyriemann.utils.distance import distance_riemann\n",
    "from pyriemann.classification import MDM\n",
    "\n",
    "import scipy.stats as stat\n",
    "\n",
    "from dtw_mdm import DTW_MDM,PT_MDM\n",
    "from utils import *\n",
    "np.random.seed(2)"
   ]
  },
  {
   "cell_type": "markdown",
   "id": "8d8cf307-04fd-4fdc-916c-952cb72d845f",
   "metadata": {},
   "source": [
    "Let us start by defining two utilitary funcitons."
   ]
  },
  {
   "cell_type": "code",
   "execution_count": 2,
   "id": "a773d14d-50ca-46e4-9e69-bbc4151f1306",
   "metadata": {},
   "outputs": [],
   "source": [
    "def sample_cov(nb,dim,scale):\n",
    "    \"\"\" Sampling nb SPD matrices the following :\n",
    "    U is drawn from the O(dim) Haar distribution\n",
    "    D is a diagonal matrix and has strictly positive values drawn from a uniform distribution U[0, scale]\n",
    "    The sampled matrix is the U^TDU\n",
    "    \n",
    "    Parameters\n",
    "    -------------\n",
    "    nb : int\n",
    "        The number of sampled SPD matrices.\n",
    "    dim : int\n",
    "        The dimension of the sampled SPD matrix\n",
    "    scale : float\n",
    "        The scale of the uniform distribution used.\n",
    "\n",
    "    Returns\n",
    "    -------------\n",
    "    all_mat : array_like of size (nb, dim, dim)\n",
    "        The sampled random SPD matrices.\n",
    "\n",
    "    \"\"\"\n",
    "    all_mat = []\n",
    "    for i in range(nb):\n",
    "        U = stat.ortho_group.rvs(dim)\n",
    "        r = stat.uniform.rvs(scale=scale,size=dim)\n",
    "        all_mat.append(U.T@np.diag(np.exp(r))@U)\n",
    "    return np.array(all_mat)"
   ]
  },
  {
   "cell_type": "code",
   "execution_count": 3,
   "id": "63f36142-be0a-4320-bb31-48868b435eb5",
   "metadata": {},
   "outputs": [],
   "source": [
    "def random_trajectories(l, all_M, scale_noise):\n",
    "    \"\"\" Creates a random trajectory with the procedure described in the paper.\n",
    "    \n",
    "    Parameters\n",
    "    -------------\n",
    "    l : int\n",
    "        The number of points on the desired trajectory.\n",
    "    all_M : array_like of size (N, c, c)\n",
    "        The SPD matrices forming the underlying trajectory.\n",
    "    scale_noise : float\n",
    "        The scale of the noise added to the trajectory.\n",
    "\n",
    "    Returns\n",
    "    -------------\n",
    "    traj : array_like of size (l, c, c)\n",
    "        The sampled random trajectory following the underlying trajectory.\n",
    "    \n",
    "    \"\"\"\n",
    "    n_M = len(all_M)\n",
    "    n = all_M[0].shape[0]\n",
    "    all_t = stat.uniform.rvs(size = l)\n",
    "    all_t = np.sort(all_t)\n",
    "    traj = []\n",
    "    for t in all_t:\n",
    "        i = 0\n",
    "        while t > (i+1)/(n_M-1):\n",
    "            i += 1\n",
    "        v = manifold.log(all_M[i],all_M[i+1])\n",
    "        epsilon = stat.norm.rvs(scale=scale_noise, size=n)\n",
    "        t_tilde = (t - i/(n_M-1))*((n_M-1))\n",
    "        traj.append(exp(all_M[i],t_tilde*v) + epsilon.reshape(n, 1) @ epsilon.reshape(1, n)) \n",
    "    return np.array(traj)"
   ]
  },
  {
   "cell_type": "markdown",
   "id": "b7c4e4cc-1e1d-475c-b229-0d14b149a9fe",
   "metadata": {},
   "source": [
    "We can now generate the trajectories that we will then classify."
   ]
  },
  {
   "cell_type": "code",
   "execution_count": 4,
   "id": "54b38c25-ca9d-47ba-9b14-f62db2d43cfb",
   "metadata": {},
   "outputs": [],
   "source": [
    "c = 2 # The dimension of the matrices\n",
    "l = 10 # The number of points on the trajectories\n",
    "scale_noise = 1/2 # The additive gaussian noise \n",
    "N = 5 # The number of points on the underlying trajectory.\n",
    "n = 100 # The number of trajectories per class\n",
    "manifold = pymanopt.manifolds.SymmetricPositiveDefinite(n=c)"
   ]
  },
  {
   "cell_type": "code",
   "execution_count": 5,
   "id": "be93a598-19a7-4a19-baa4-7d7fd57d6061",
   "metadata": {},
   "outputs": [],
   "source": [
    "# We start by defining the two underlying trajectories\n",
    "big_M1 = sample_cov(2,c,5)\n",
    "all_M1 = random_trajectories(N,big_M1,scale_noise)\n",
    "all_M2 = all_M1.copy()\n",
    "all_M2[3] += sample_cov(1,c,5)[0]\n",
    "\n",
    "# We can then sample the training trajectories \n",
    "all_traj1 = []\n",
    "all_traj2 = []\n",
    "for i in range(n):\n",
    "    all_traj1.append(random_trajectories(l,all_M1,scale_noise))\n",
    "    all_traj2.append(random_trajectories(l,all_M2,scale_noise))\n",
    "all_traj1 = np.array(all_traj1)\n",
    "all_traj2 = np.array(all_traj2)\n",
    "all_traj = np.concatenate((all_traj1,all_traj2))\n",
    "labels = np.array([1]*all_traj1.shape[0] + [2]*all_traj1.shape[0])"
   ]
  },
  {
   "cell_type": "markdown",
   "id": "cb2e54e8-0d39-4967-807a-126b46df554b",
   "metadata": {},
   "source": [
    "Then, we can classify the trajectories using the three algorithms : DTW-MDM, Traj MDM and MDM."
   ]
  },
  {
   "cell_type": "code",
   "execution_count": 6,
   "id": "718e8357-108d-4f61-9ef3-a183be3ff442",
   "metadata": {},
   "outputs": [],
   "source": [
    "nb_it = 10\n",
    "eps = 1e-5\n",
    "\n",
    "# We start by shuffling the trajectories and by diving the set into a training and a testing set.\n",
    "size_mean_traj = all_traj1.shape[1]\n",
    "idx_shuffle = np.arange(len(all_traj))\n",
    "np.random.shuffle(idx_shuffle)\n",
    "all_traj_shuffle = all_traj[idx_shuffle]\n",
    "labels_shuffle = labels[idx_shuffle]\n",
    "\n",
    "pourcent_train = 0.8\n",
    "training_traj = all_traj_shuffle[:int(len(all_traj_shuffle)*pourcent_train)]\n",
    "training_labels = labels_shuffle[:int(len(all_traj_shuffle)*pourcent_train)]\n",
    "\n",
    "testing_traj = all_traj_shuffle[int(len(all_traj_shuffle)*pourcent_train):]\n",
    "testing_labels = labels_shuffle[int(len(all_traj_shuffle)*pourcent_train):]"
   ]
  },
  {
   "cell_type": "markdown",
   "id": "b7bc91c2-d61d-4e6f-b7e3-46ab2aa01454",
   "metadata": {},
   "source": [
    "We train the classifiers."
   ]
  },
  {
   "cell_type": "code",
   "execution_count": 7,
   "id": "0f5ec832-a684-491a-b9c4-9ca9d7fb9554",
   "metadata": {},
   "outputs": [
    {
     "name": "stdout",
     "output_type": "stream",
     "text": [
      "Training the DTW-MDM...\n"
     ]
    },
    {
     "name": "stderr",
     "output_type": "stream",
     "text": [
      "100%|██████████| 10/10 [01:11<00:00,  7.11s/it]\n",
      "100%|██████████| 10/10 [01:22<00:00,  8.21s/it]\n"
     ]
    },
    {
     "name": "stdout",
     "output_type": "stream",
     "text": [
      "Training of the DTW-MDM done !\n",
      "Training the PT MDM...\n",
      "Training of the PT MDM done !\n",
      "Training the MDM...\n",
      "Training of the MDM done !\n"
     ]
    }
   ],
   "source": [
    "print(\"Training the DTW-MDM...\")\n",
    "DTW_MDM_ = DTW_MDM(manifold, nb_it, eps, size_mean_traj)\n",
    "DTW_MDM_.fit(training_traj,training_labels)\n",
    "print(\"Training of the DTW-MDM done !\")\n",
    "\n",
    "print(\"Training the PT MDM...\")\n",
    "PT_MDM = PT_MDM(manifold)\n",
    "PT_MDM.fit(training_traj,training_labels)\n",
    "print(\"Training of the PT MDM done !\")\n",
    "\n",
    "print(\"Training the MDM...\")\n",
    "MDM_ = MDM(n_jobs=-1)\n",
    "average_traj =  np.mean(all_traj_shuffle,axis=1)\n",
    "MDM_.fit(np.mean(training_traj,axis=1),training_labels)\n",
    "print(\"Training of the MDM done !\")"
   ]
  },
  {
   "cell_type": "markdown",
   "id": "676fbf98-cab1-49dc-8535-488ef95f9e1a",
   "metadata": {},
   "source": [
    "And test them"
   ]
  },
  {
   "cell_type": "code",
   "execution_count": 8,
   "id": "5fa565bd-7eda-41b2-b051-10a4c55a08fd",
   "metadata": {},
   "outputs": [],
   "source": [
    "score_DTW_MDM = DTW_MDM_.score(testing_traj,testing_labels)\n",
    "score_PT_MDM = PT_MDM.score(testing_traj,testing_labels)\n",
    "score_MDM = MDM_.score(np.mean(testing_traj,axis=1),testing_labels)"
   ]
  },
  {
   "cell_type": "markdown",
   "id": "934f434c-cb0c-4d60-87d2-cba65c48b282",
   "metadata": {},
   "source": [
    "We can plot the different accuracy on this simple example. We see that the two proposed algorithms _DTW-MDM_ and _PT-MDM_ have a better accuracy than the state of the art algorithm _MDM_ [1]. "
   ]
  },
  {
   "cell_type": "code",
   "execution_count": 9,
   "id": "120e667c-4b50-4495-bd8a-b4a37bee6a56",
   "metadata": {},
   "outputs": [
    {
     "data": {
      "text/plain": [
       "[]"
      ]
     },
     "execution_count": 9,
     "metadata": {},
     "output_type": "execute_result"
    },
    {
     "data": {
      "image/png": "[encoded data removed]",
      "text/plain": [
       "<Figure size 640x480 with 1 Axes>"
      ]
     },
     "metadata": {},
     "output_type": "display_data"
    }
   ],
   "source": [
    "plt.figure()\n",
    "plt.plot([score_DTW_MDM,score_PT_MDM,score_MDM],'o',markersize=10)\n",
    "plt.xticks(ticks=[0,1,2],labels=[\"DTW-MDM\", \"PT MDM\", \"MDM\"])\n",
    "plt.ylabel(\"Accuracy\")\n",
    "plt.title(\"The accuracies of the different classifiers\")\n",
    "plt.plot()"
   ]
  },
  {
   "cell_type": "markdown",
   "id": "4b9e4e53-7009-4dbb-82cd-b756094ac02a",
   "metadata": {},
   "source": [
    "### References\n"
   ]
  },
  {
   "cell_type": "markdown",
   "id": "1091be7a-f930-4fcd-a743-a7fb063c1bae",
   "metadata": {},
   "source": [
    "[1] A. Barachant, S. Bonnet, M. Congedo, and C. Jutten, “Riemannian geometry applied to BCI classification,” in _LVA/ICA 2010_. Sept. 2010, vol. 6365, p. 629, Springer."
   ]
  }
 ],
 "metadata": {
  "kernelspec": {
   "display_name": "Python (myenv)",
   "language": "python",
   "name": "myenv"
  },
  "language_info": {
   "codemirror_mode": {
    "name": "ipython",
    "version": 3
   },
   "file_extension": ".py",
   "mimetype": "text/x-python",
   "name": "python",
   "nbconvert_exporter": "python",
   "pygments_lexer": "ipython3",
   "version": "3.11.3"
  }
 },
 "nbformat": 4,
 "nbformat_minor": 5
}
